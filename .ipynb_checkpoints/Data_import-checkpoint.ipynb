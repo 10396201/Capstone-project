{
 "cells": [
  {
   "cell_type": "code",
   "execution_count": 93,
   "metadata": {
    "collapsed": false
   },
   "outputs": [
    {
     "name": "stdout",
     "output_type": "stream",
     "text": [
      "48\n"
     ]
    }
   ],
   "source": [
    "import httplib\n",
    "import json\n",
    "from datetime import datetime, date\n",
    "import pandas as pd\n",
    "import time\n",
    "\n",
    "cities = ['Genova','Torino','Bologna','Firenze','Ancona','Livorno','Roma','Pescara','Bari','Napoli','Taranto','Lecce', \n",
    "          'Cosenza', 'Reggio Calabria','Varese','Bergamo','Nizza','Marsiglia','Grenoble','Ginevra','Losanna','Zurigo','Venezia',\n",
    "         'Trento','Lugano','Brescia','Lione','Padova','Udine','Bolzano','Trieste','Reggio Emilia','Berna','Monaco di Baviera',\n",
    "          'Verona','Rimini', 'Ravenna','Terni','Salerno','Crotone','Savona','Cannes','Pisa','Como','Pesaro','Treviso','Fiume',\n",
    "         'Innsbruck']\n",
    "\n",
    "print(len(cities))"
   ]
  },
  {
   "cell_type": "code",
   "execution_count": 83,
   "metadata": {
    "collapsed": true
   },
   "outputs": [],
   "source": [
    "conn = httplib.HTTPSConnection(\"public-api.blablacar.com\")\n",
    "\n",
    "headers = {\n",
    "        'accept': \"application/json\",\n",
    "        'key': \"e359fe6292be4078ba1dcc963577813f\"\n",
    "    }\n",
    "\n",
    "stringa = '/api/v2/trips?fn=Milano&tn=Ancona&locale=it_IT&_format=json&db=2016-12-31&de=2016-12-31&page=1&limit=100&radius=5'\n",
    "\n",
    "trips = conn.request(\"GET\",stringa, headers=headers)\n",
    "\n",
    "res = conn.getresponse()\n",
    "data = res.read().decode(\"utf-8\")"
   ]
  },
  {
   "cell_type": "code",
   "execution_count": 84,
   "metadata": {
    "collapsed": false
   },
   "outputs": [
    {
     "data": {
      "text/plain": [
       "1"
      ]
     },
     "execution_count": 84,
     "metadata": {},
     "output_type": "execute_result"
    }
   ],
   "source": [
    "prova = json.loads(data)\n",
    "\n",
    "prova['pager']['pages']"
   ]
  },
  {
   "cell_type": "code",
   "execution_count": 86,
   "metadata": {
    "collapsed": false
   },
   "outputs": [
    {
     "name": "stdout",
     "output_type": "stream",
     "text": [
      "/api/v2/trips?fn=Milano&tn=Ancona&locale=it_IT&_format=json&db=2016-12-31&de=2016-12-31&page=1&limit=100&radius=5\n"
     ]
    }
   ],
   "source": [
    "s1 = \"/api/v2/trips?fn=Milano&tn=\" # destination\n",
    "s2 = \"&locale=it_IT&_format=json&db=\" # date begin\n",
    "s3 = \"&de=\" # date end\n",
    "s4 = \"&page=\" # page num\n",
    "s5 = \"&limit=100&radius=5\"    \n",
    "date_query = '2016-12-31'\n",
    "c = 'Ancona'\n",
    "\n",
    "request_url = s1 + c + s2 + date_query + s3 + date_query + s4 + str(1) + s5\n",
    "print request_url\n",
    "trips = conn.request(\"GET\",request_url, headers=headers)\n",
    "\n",
    "res = conn.getresponse()\n",
    "data = res.read().decode(\"utf-8\")\n",
    "\n",
    "prova = json.loads(data)\n"
   ]
  },
  {
   "cell_type": "code",
   "execution_count": 87,
   "metadata": {
    "collapsed": true
   },
   "outputs": [],
   "source": [
    "def extract_data(trip):\n",
    "    depdate = datetime.strptime(trip['departure_date'], \"%d/%m/%Y %H:%M:%S\")\n",
    "    depplace = trip['departure_place']\n",
    "    arrplace = trip['arrival_place']\n",
    "    \n",
    "    link = trip['links']['_front']    # link to the page of the trip (available only for trips \"in the future\")\n",
    "    \n",
    "    dep_day = depdate.date()       # date of the trip\n",
    "    dep_time = depdate.time()      # hour of departure\n",
    "    dep_city = depplace['city_name']  # city of dep\n",
    "    dep_lat = depplace['latitude']    # latitude of dep place\n",
    "    dep_long = depplace['longitude']  # longitude of dep place\n",
    "    dep_addr = depplace['address']    # address of dep place\n",
    "    arr_city = arrplace['city_name']  \n",
    "    arr_lat = arrplace['latitude']\n",
    "    arr_long = arrplace['longitude']\n",
    "    arr_addr = arrplace['address']\n",
    "    price = trip['price_with_commission']['value'] # price with commission\n",
    "    seatsleft = trip['seats_left']                 # seats left \n",
    "    seats = trip['seats']                          # seats made available by the driver\n",
    "    trip_id = trip['permanent_id']                 # trip id\n",
    "    stops = trip['locations_to_display']           # locations in which the driver will stop\n",
    "    bookmode = trip['booking_mode']                # could be MANUAL if the driver has to accept your request, AUTO otherwise\n",
    "    booktype = trip['booking_type']               # payment method: ONLINE, ON BOARD\n",
    "    \n",
    "    return (link, dep_day, dep_time, dep_city, dep_lat, dep_long, dep_addr, arr_city, arr_lat, arr_long, arr_addr, price, \n",
    "         seatsleft, seats, trip_id, stops, bookmode, booktype)"
   ]
  },
  {
   "cell_type": "code",
   "execution_count": 88,
   "metadata": {
    "collapsed": true
   },
   "outputs": [],
   "source": [
    "def tuplelist_to_df(L):\n",
    "    labels = ['link', 'dep_day', 'dep_time', 'dep_city', 'dep_lat', 'dep_long', 'dep_addr', 'arr_city', 'arr_lat', 'arr_long', \n",
    "              'arr_addr', 'price', 'seatsleft', 'seats', 'trip_id', 'stops', 'bookmode', 'booktype']\n",
    "    df = pd.DataFrame.from_records(L, columns = labels)\n",
    "    return df"
   ]
  },
  {
   "cell_type": "code",
   "execution_count": 103,
   "metadata": {
    "collapsed": true
   },
   "outputs": [],
   "source": [
    "def dict_to_df(d):\n",
    "    return pd.DataFrame(d.values(), index=pd.MultiIndex.from_tuples(d.keys()))"
   ]
  },
  {
   "cell_type": "code",
   "execution_count": 106,
   "metadata": {
    "collapsed": true
   },
   "outputs": [],
   "source": [
    "def get_data(year,month,day_begin,day_end, cities):\n",
    "    conn = httplib.HTTPSConnection(\"public-api.blablacar.com\")\n",
    "    \n",
    "    headers = {\n",
    "        'accept': \"application/json\",\n",
    "        'key': \"e359fe6292be4078ba1dcc963577813f\"\n",
    "    }\n",
    "    \n",
    "    count = 0\n",
    "    \n",
    "    yearmonth = str(year)+'-'+str(month).zfill(2)+'-'\n",
    "    \n",
    "    my_data = []\n",
    "    d_full = {}\n",
    "    \n",
    "    s1 = \"/api/v2/trips?fn=Milano&tn=\" # destination\n",
    "    s2 = \"&locale=it_IT&_format=json&db=\" # date begin\n",
    "    s3 = \"&de=\" # date end\n",
    "    s4 = \"&page=\" # page num\n",
    "    s5 = \"&limit=100&radius=5\"    \n",
    "    for day in xrange(day_begin, day_end+1):\n",
    "        date_query = yearmonth + str(day).zfill(2)\n",
    "        print date_query\n",
    "        for c in cities:\n",
    "            count += 1\n",
    "            print c, count\n",
    "            request_url = s1 + c + s2 + date_query + s3 + date_query + s4 + str(1) + s5\n",
    "            \n",
    "            #if count == 100:\n",
    "                #time.sleep(30)\n",
    "                #count = 0\n",
    "                \n",
    "            conn.request(\"GET\", request_url, headers=headers) \n",
    "            res = conn.getresponse()\n",
    "            time.sleep(2)\n",
    "            \n",
    "            data = res.read().decode(\"utf-8\")\n",
    "            trips_data = json.loads(data)\n",
    "            \n",
    "            if trips_data:\n",
    "                num_pages = int(trips_data['pager']['pages'])\n",
    "            \n",
    "                num_full_trips = int(trips_data['full_trips_count'])\n",
    "                d_full[(c,date_query)] = num_full_trips    # key is the tuple (city, date)\n",
    "\n",
    "                for t in trips_data['trips']:\n",
    "                    my_data.append(extract_data(t))\n",
    "            \n",
    "                for p in xrange(2,num_pages+1):\n",
    "                    request_url = s1 + c + s2 + date_query + s3 + date_query + s4 + str(p) + s5\n",
    "                    conn.request(\"GET\", request_url, headers=headers)\n",
    "                    res = conn.getresponse()\n",
    "                    time.sleep(2)\n",
    "                    \n",
    "                    data = res.read().decode(\"utf-8\")\n",
    "                    trips_data = json.loads(data)                \n",
    "                    for t in trips_data['trips']:\n",
    "                        my_data.append(extract_data(t))\n",
    "                                     \n",
    "    return tuplelist_to_df(my_data), dict_to_df(d_full)"
   ]
  },
  {
   "cell_type": "code",
   "execution_count": 108,
   "metadata": {
    "collapsed": false
   },
   "outputs": [
    {
     "name": "stdout",
     "output_type": "stream",
     "text": [
      "2016-12-29\n",
      "Genova 1\n"
     ]
    },
    {
     "ename": "KeyError",
     "evalue": "'pager'",
     "output_type": "error",
     "traceback": [
      "\u001b[0;31m\u001b[0m",
      "\u001b[0;31mKeyError\u001b[0mTraceback (most recent call last)",
      "\u001b[0;32m<ipython-input-108-43334eb7e631>\u001b[0m in \u001b[0;36m<module>\u001b[0;34m()\u001b[0m\n\u001b[1;32m      1\u001b[0m \u001b[0;31m#December\u001b[0m\u001b[0;34m\u001b[0m\u001b[0;34m\u001b[0m\u001b[0m\n\u001b[0;32m----> 2\u001b[0;31m \u001b[0mdf_dec\u001b[0m\u001b[0;34m,\u001b[0m \u001b[0mfull_dec\u001b[0m \u001b[0;34m=\u001b[0m \u001b[0mget_data\u001b[0m\u001b[0;34m(\u001b[0m\u001b[0;36m2016\u001b[0m\u001b[0;34m,\u001b[0m\u001b[0;36m12\u001b[0m\u001b[0;34m,\u001b[0m\u001b[0;36m29\u001b[0m\u001b[0;34m,\u001b[0m\u001b[0;36m31\u001b[0m\u001b[0;34m,\u001b[0m\u001b[0mcities\u001b[0m\u001b[0;34m)\u001b[0m\u001b[0;34m\u001b[0m\u001b[0m\n\u001b[0m\u001b[1;32m      3\u001b[0m \u001b[0;34m\u001b[0m\u001b[0m\n\u001b[1;32m      4\u001b[0m \u001b[0;32mprint\u001b[0m \u001b[0mlen\u001b[0m\u001b[0;34m(\u001b[0m\u001b[0mdf_dec\u001b[0m\u001b[0;34m)\u001b[0m\u001b[0;34m,\u001b[0m \u001b[0mlen\u001b[0m\u001b[0;34m(\u001b[0m\u001b[0mfull_dec\u001b[0m\u001b[0;34m)\u001b[0m\u001b[0;34m\u001b[0m\u001b[0m\n",
      "\u001b[0;32m<ipython-input-106-52f4bc170907>\u001b[0m in \u001b[0;36mget_data\u001b[0;34m(year, month, day_begin, day_end, cities)\u001b[0m\n\u001b[1;32m     39\u001b[0m \u001b[0;34m\u001b[0m\u001b[0m\n\u001b[1;32m     40\u001b[0m             \u001b[0;32mif\u001b[0m \u001b[0mtrips_data\u001b[0m\u001b[0;34m:\u001b[0m\u001b[0;34m\u001b[0m\u001b[0m\n\u001b[0;32m---> 41\u001b[0;31m                 \u001b[0mnum_pages\u001b[0m \u001b[0;34m=\u001b[0m \u001b[0mint\u001b[0m\u001b[0;34m(\u001b[0m\u001b[0mtrips_data\u001b[0m\u001b[0;34m[\u001b[0m\u001b[0;34m'pager'\u001b[0m\u001b[0;34m]\u001b[0m\u001b[0;34m[\u001b[0m\u001b[0;34m'pages'\u001b[0m\u001b[0;34m]\u001b[0m\u001b[0;34m)\u001b[0m\u001b[0;34m\u001b[0m\u001b[0m\n\u001b[0m\u001b[1;32m     42\u001b[0m \u001b[0;34m\u001b[0m\u001b[0m\n\u001b[1;32m     43\u001b[0m                 \u001b[0mnum_full_trips\u001b[0m \u001b[0;34m=\u001b[0m \u001b[0mint\u001b[0m\u001b[0;34m(\u001b[0m\u001b[0mtrips_data\u001b[0m\u001b[0;34m[\u001b[0m\u001b[0;34m'full_trips_count'\u001b[0m\u001b[0;34m]\u001b[0m\u001b[0;34m)\u001b[0m\u001b[0;34m\u001b[0m\u001b[0m\n",
      "\u001b[0;31mKeyError\u001b[0m: 'pager'"
     ]
    }
   ],
   "source": [
    "#December\n",
    "df_dec, full_dec = get_data(2016,12,29,31,cities)\n",
    "\n",
    "print len(df_dec), len(full_dec)"
   ]
  },
  {
   "cell_type": "code",
   "execution_count": 102,
   "metadata": {
    "collapsed": true
   },
   "outputs": [
    {
     "name": "stdout",
     "output_type": "stream",
     "text": [
      "                           0                      \n",
      "                  2016-12-29 2016-12-30 2016-12-31\n",
      "Ancona                     4          6          2\n",
      "Bari                       0          4          1\n",
      "Bergamo                    1          0          1\n",
      "Berna                      1          1          0\n",
      "Bologna                    7         13         14\n",
      "Bolzano                    2          2          2\n",
      "Brescia                    3          6          2\n",
      "Cannes                     1          0          0\n",
      "Como                       1          0          0\n",
      "Cosenza                    2          0          0\n",
      "Crotone                    0          0          0\n",
      "Firenze                   12         10          6\n",
      "Fiume                      0          1          1\n",
      "Genova                     4         10          3\n",
      "Ginevra                    1          1          1\n",
      "Grenoble                   2          0          0\n",
      "Innsbruck                  1          3          0\n",
      "Lecce                      0          0          0\n",
      "Lione                      3          7          0\n",
      "Livorno                    1          1          0\n",
      "Losanna                    0          1          0\n",
      "Lugano                     1          2          0\n",
      "Marsiglia                  0          0          0\n",
      "Monaco di Baviera          2          2          1\n",
      "Napoli                     3          2          3\n",
      "Nizza                      4          9          3\n",
      "Padova                     5         10          4\n",
      "Pesaro                     1          1          2\n",
      "Pescara                    2          5          0\n",
      "Pisa                       1          3          1\n",
      "Ravenna                    1          0          1\n",
      "Reggio Calabria            0          0          0\n",
      "Reggio Emilia              1          0          2\n",
      "Rimini                     3          9          5\n",
      "Roma                       5         13          3\n",
      "Salerno                    1          0          0\n",
      "Savona                     2          4          2\n",
      "Taranto                    1          1          0\n",
      "Terni                      0          1          1\n",
      "Torino                     3          6          6\n",
      "Trento                     1         10          1\n",
      "Treviso                    2          3          0\n",
      "Trieste                    3          6          5\n",
      "Udine                      1          2          0\n",
      "Varese                     0          0          0\n",
      "Venezia                    1          5          2\n",
      "Verona                     6         14          4\n",
      "Zurigo                     3          1          3\n"
     ]
    }
   ],
   "source": [
    "print full_dec"
   ]
  }
 ],
 "metadata": {
  "kernelspec": {
   "display_name": "Python 2",
   "language": "python",
   "name": "python2"
  },
  "language_info": {
   "codemirror_mode": {
    "name": "ipython",
    "version": 2
   },
   "file_extension": ".py",
   "mimetype": "text/x-python",
   "name": "python",
   "nbconvert_exporter": "python",
   "pygments_lexer": "ipython2",
   "version": "2.7.13"
  }
 },
 "nbformat": 4,
 "nbformat_minor": 2
}
