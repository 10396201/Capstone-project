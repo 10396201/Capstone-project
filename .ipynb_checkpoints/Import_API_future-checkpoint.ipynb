{
 "cells": [
  {
   "cell_type": "code",
   "execution_count": 62,
   "metadata": {
    "collapsed": true
   },
   "outputs": [],
   "source": [
    "from blablacarapi import BlaBlaCarApi\n",
    "import pandas as pd\n",
    "import requests\n",
    "from bs4 import BeautifulSoup\n",
    "import re\n",
    "from datetime import datetime, date"
   ]
  },
  {
   "cell_type": "code",
   "execution_count": 2,
   "metadata": {
    "collapsed": true
   },
   "outputs": [],
   "source": [
    "api = BlaBlaCarApi(api_key=\"e359fe6292be4078ba1dcc963577813f\", locale = 'it_IT')"
   ]
  },
  {
   "cell_type": "code",
   "execution_count": 65,
   "metadata": {
    "collapsed": true
   },
   "outputs": [],
   "source": [
    "def scraping(url):\n",
    "    RE_PUB_DATE = re.compile(r'.* (\\d+\\/\\d+\\/\\d+)')\n",
    "    RE_VIEWS = re.compile(r'.* (\\d+) .*')\n",
    "    \n",
    "    response = requests.get(url)\n",
    "    soup = BeautifulSoup(response.text)\n",
    "    #print soup.prettify()\n",
    "    info = soup.find('div', attrs={'class': 'RideDetails-publicationInfo u-table'}).text #Find (at most) *one*\n",
    "    info = info.replace('\\n','').replace('\\t','').split('-')\n",
    "    pub_date_str = info[0].strip()\n",
    "    pub_date = RE_PUB_DATE.match(pub_date_str).groups()[0]\n",
    "    views_str = info[1].strip()\n",
    "\n",
    "    pub_date = datetime.strptime(pub_date, \"%d/%m/%Y\" ).date()  # .date() because we just need the day and not also the time\n",
    "                                                                # this is the same format as depdate\n",
    "    views = int(RE_VIEWS.match(views_str).groups()[0])\n",
    "    return pub_date, views"
   ]
  },
  {
   "cell_type": "code",
   "execution_count": 50,
   "metadata": {
    "collapsed": true
   },
   "outputs": [],
   "source": [
    "def extract_data(trip):\n",
    "    depdate = trip.departure_date\n",
    "    depplace = trip.departure_place\n",
    "    arrplace = trip.arrival_place\n",
    "    \n",
    "    link = trip.links['_front']    # link to the page of the trip (available only for trips \"in the future\")\n",
    "    pub_date, views = scraping(link)\n",
    "    \n",
    "    dep_day = depdate.date()       # date of the trip\n",
    "    dep_time = depdate.time()      # hour of departure\n",
    "    dep_city = depplace['city_name']  # city of dep\n",
    "    dep_lat = depplace['latitude']    # latitude of dep place\n",
    "    dep_long = depplace['longitude']  # longitude of dep place\n",
    "    dep_addr = depplace['address']    # address of dep place\n",
    "    arr_city = arrplace['city_name']  \n",
    "    arr_lat = arrplace['latitude']\n",
    "    arr_long = arrplace['longitude']\n",
    "    arr_addr = arrplace['address']\n",
    "    price = trip.price_with_commission['value'] # price with commission\n",
    "    seatsleft = trip.seats_left                 # seats left \n",
    "    seats = trip.seats                          # seats made available by the driver\n",
    "    trip_id = trip.permanent_id                 # trip id\n",
    "    stops = trip.locations_to_display           # locations in which the driver will stop\n",
    "    bookmode = trip.booking_mode                # could be MANUAL if the driver has to accept your request, AUTO otherwise\n",
    "    booktype = trip.booking_type                # payment method: ONLINE, ON BOARD\n",
    "    \n",
    "    return (link, dep_day, dep_time, dep_city, dep_lat, dep_long, dep_addr, arr_city, arr_lat, arr_long, arr_addr, price, \n",
    "         seatsleft, seats, trip_id, stops, bookmode, booktype, pub_date, views)"
   ]
  },
  {
   "cell_type": "code",
   "execution_count": null,
   "metadata": {
    "collapsed": true
   },
   "outputs": [],
   "source": [
    "def tuplelist_to_df(L):\n",
    "    labels = ['link', 'dep_day', 'dep_time', 'dep_city', 'dep_lat', 'dep_long', 'dep_addr', 'arr_city', 'arr_lat', 'arr_long', \n",
    "              'arr_addr', 'price', 'seatsleft', 'seats', 'trip_id', 'stops', 'bookmode', 'booktype']\n",
    "    df = pd.DataFrame.from_records(L, columns = labels)\n",
    "    return df"
   ]
  },
  {
   "cell_type": "code",
   "execution_count": 66,
   "metadata": {
    "collapsed": false
   },
   "outputs": [
    {
     "name": "stdout",
     "output_type": "stream",
     "text": [
      "(u'https://www.blablacar.it/passaggio-milano-bologna-770271225', datetime.date(2017, 3, 30), datetime.time(0, 0), u'Milano', 45.4810039, 9.2250039, u'Piola, Milano, MI', u'Bologna', 44.494887, 11.3426163, u'Bologna, BO', 9.5, 2, 2, u'770271225-milano-bologna', [u'Milano', u'Bologna', u'Matera'], u'manual', u'online', datetime.date(2017, 3, 27), 49)\n"
     ]
    }
   ],
   "source": [
    "# blocco di prova\n",
    "date = '2017-03-30'\n",
    "trips = api.trips(frm=\"Milano\", locale='it_IT', limit=1, db = date, de = date)\n",
    "for t in trips.trips:\n",
    "    print extract_data(t)"
   ]
  },
  {
   "cell_type": "code",
   "execution_count": null,
   "metadata": {
    "collapsed": true
   },
   "outputs": [],
   "source": [
    "# january\n",
    "month = '2017-01-'\n",
    "jan = []\n",
    "for day in xrange(1,32):\n",
    "    date = month + str(day).zfill(2)\n",
    "    trips = api.trips(frm=\"Milano\", locale='it_IT', limit=100, db = date, de = date)\n",
    "    page = 1\n",
    "    while trips.pager.has_next():\n",
    "        page += 1\n",
    "        trips = api.trips(frm=\"Milano\", page = page, locale='it_IT', limit=100, db = date, de = date)\n",
    "        for t in trips.trips:\n",
    "            jan.append(extract_data(t)) # function returning a tuple\n",
    "            \n",
    "print len(jan)"
   ]
  }
 ],
 "metadata": {
  "kernelspec": {
   "display_name": "Python 2",
   "language": "python",
   "name": "python2"
  },
  "language_info": {
   "codemirror_mode": {
    "name": "ipython",
    "version": 2
   },
   "file_extension": ".py",
   "mimetype": "text/x-python",
   "name": "python",
   "nbconvert_exporter": "python",
   "pygments_lexer": "ipython2",
   "version": "2.7.13"
  }
 },
 "nbformat": 4,
 "nbformat_minor": 2
}
