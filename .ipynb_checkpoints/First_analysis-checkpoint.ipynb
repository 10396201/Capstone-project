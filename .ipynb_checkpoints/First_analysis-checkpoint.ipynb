{
 "cells": [
  {
   "cell_type": "code",
   "execution_count": 1,
   "metadata": {
    "collapsed": true
   },
   "outputs": [],
   "source": [
    "import pandas as pd\n",
    "import numpy as np\n",
    "import matplotlib.pyplot as plt \n",
    "from scipy.stats import ttest_ind\n",
    "from math import floor,ceil\n",
    "import matplotlib.dates as mdates\n",
    "from datetime import datetime"
   ]
  },
  {
   "cell_type": "code",
   "execution_count": 2,
   "metadata": {
    "collapsed": false
   },
   "outputs": [],
   "source": [
    "jan = pd.read_csv('./Data/Storico/January2017.csv')\n",
    "feb = pd.read_csv('./Data/Storico/February2017.csv')\n",
    "mar = pd.read_csv('./Data/Storico/March2017.csv')\n",
    "mar2 = pd.read_csv('./Data/Futuro/March2017.csv')\n",
    "apr = pd.read_csv('./Data/Futuro/April2017.csv')\n",
    "may = pd.read_csv('./Data/Futuro/May2017.csv')\n",
    "jun = pd.read_csv('./Data/Futuro/June2017.csv')\n",
    "jul = pd.read_csv('./Data/Futuro/July2017.csv')"
   ]
  },
  {
   "cell_type": "code",
   "execution_count": 3,
   "metadata": {
    "collapsed": false
   },
   "outputs": [],
   "source": [
    "jan.drop(jan.columns[[0, 1, 2]], axis=1, inplace=True) \n",
    "feb.drop(feb.columns[[0, 1, 2]], axis=1, inplace=True) \n",
    "mar.drop(mar.columns[[0, 1, 2]], axis=1, inplace=True) \n",
    "mar2.drop(mar2.columns[[0, 1, 2]], axis=1, inplace=True) \n",
    "apr.drop(apr.columns[[0, 1, 2]], axis=1, inplace=True) \n",
    "may.drop(may.columns[[0, 1, 2]], axis=1, inplace=True) \n",
    "jun.drop(jun.columns[[0, 1, 2]], axis=1, inplace=True) \n",
    "jul.drop(jul.columns[[0, 1, 2]], axis=1, inplace=True) "
   ]
  },
  {
   "cell_type": "code",
   "execution_count": 4,
   "metadata": {
    "collapsed": false
   },
   "outputs": [],
   "source": [
    "# create a unique dataset\n",
    "df = jan.append(feb, ignore_index = True).append(mar, ignore_index = True).append(mar2, ignore_index = True).append(apr, ignore_index = True).append(may, ignore_index = True).append(jun, ignore_index = True).append(jul, ignore_index = True)"
   ]
  },
  {
   "cell_type": "code",
   "execution_count": 10,
   "metadata": {
    "collapsed": false
   },
   "outputs": [],
   "source": [
    "for ind, row in df.iterrows():\n",
    "    df.set_value(ind, 'arr_city_name', df.get_value(ind, 'arr_city_name').lower()) "
   ]
  },
  {
   "cell_type": "code",
   "execution_count": 12,
   "metadata": {
    "collapsed": true
   },
   "outputs": [],
   "source": [
    "past = jan.append(feb, ignore_index = True).append(mar, ignore_index = True)"
   ]
  },
  {
   "cell_type": "code",
   "execution_count": 13,
   "metadata": {
    "collapsed": false
   },
   "outputs": [],
   "source": [
    "for ind, row in past.iterrows():\n",
    "    past.set_value(ind, 'arr_city_name', past.get_value(ind, 'arr_city_name').lower()) "
   ]
  },
  {
   "cell_type": "code",
   "execution_count": 14,
   "metadata": {
    "collapsed": true
   },
   "outputs": [],
   "source": [
    "future = mar2.append(apr, ignore_index = True).append(may, ignore_index = True).append(jun, ignore_index = True).append(jul, ignore_index = True)"
   ]
  },
  {
   "cell_type": "code",
   "execution_count": 15,
   "metadata": {
    "collapsed": true
   },
   "outputs": [],
   "source": [
    "for ind, row in future.iterrows():\n",
    "    future.set_value(ind, 'arr_city_name', future.get_value(ind, 'arr_city_name').lower()) "
   ]
  },
  {
   "cell_type": "code",
   "execution_count": null,
   "metadata": {
    "collapsed": false
   },
   "outputs": [],
   "source": [
    "len(future)"
   ]
  },
  {
   "cell_type": "code",
   "execution_count": 16,
   "metadata": {
    "collapsed": true
   },
   "outputs": [],
   "source": [
    "future.to_csv('./Data/Futuro/All_future.csv')"
   ]
  },
  {
   "cell_type": "code",
   "execution_count": null,
   "metadata": {
    "collapsed": true
   },
   "outputs": [],
   "source": [
    "# histogram of available seats\n",
    "seats = df['seats']\n",
    "vc = seats.value_counts().sort_index()\n",
    "ax = vc.plot(kind='bar')\n",
    "fig = ax.get_figure()\n",
    "#fig.autofmt_xdate()\n",
    "\n",
    "plt.show()"
   ]
  },
  {
   "cell_type": "code",
   "execution_count": null,
   "metadata": {
    "collapsed": true
   },
   "outputs": [],
   "source": [
    "print vc"
   ]
  },
  {
   "cell_type": "code",
   "execution_count": null,
   "metadata": {
    "collapsed": false
   },
   "outputs": [],
   "source": [
    "# Analysis of distance over Past\n",
    "binwidth = 125\n",
    "plt.hist(past['distance'], normed = True, bins=range(0, max(past['distance']) + binwidth, binwidth))\n",
    "plt.show()\n",
    "\n",
    "# threshold at 250 km"
   ]
  },
  {
   "cell_type": "code",
   "execution_count": null,
   "metadata": {
    "collapsed": false
   },
   "outputs": [],
   "source": [
    "(.0035+.0025+.0015+.0005+.0005)*125"
   ]
  },
  {
   "cell_type": "code",
   "execution_count": null,
   "metadata": {
    "collapsed": false
   },
   "outputs": [],
   "source": [
    "# Analysis of distance over Future\n",
    "binwidth = 125\n",
    "plt.hist(future['distance'], normed = 1, bins=range(0, max(past['distance']) + binwidth, binwidth))\n",
    "plt.show()\n",
    "\n",
    "# threshold at 250 km"
   ]
  },
  {
   "cell_type": "code",
   "execution_count": null,
   "metadata": {
    "collapsed": true
   },
   "outputs": [],
   "source": [
    "# histogram of available seats\n",
    "seats_short = df[df['distance']<250]['seats']\n",
    "vc = seats_short.value_counts().sort_index()\n",
    "print vc\n",
    "ax = vc.plot(kind='bar')\n",
    "fig = ax.get_figure()\n",
    "#fig.autofmt_xdate()\n",
    "\n",
    "#plt.show()"
   ]
  },
  {
   "cell_type": "code",
   "execution_count": null,
   "metadata": {
    "collapsed": true
   },
   "outputs": [],
   "source": [
    "# histogram of available seats\n",
    "seats_long = df[df['distance']>=250]['seats']\n",
    "vc = seats_long.value_counts().sort_index()\n",
    "print vc\n",
    "ax = vc.plot(kind='bar')\n",
    "fig = ax.get_figure()\n",
    "#fig.autofmt_xdate()\n",
    "\n",
    "#plt.show()"
   ]
  },
  {
   "cell_type": "code",
   "execution_count": null,
   "metadata": {
    "collapsed": false
   },
   "outputs": [],
   "source": [
    "print seats.mean(),seats_short.mean(),seats_long.mean()\n",
    "\n",
    "print ttest_ind(seats_short, seats_long) # statistically different"
   ]
  },
  {
   "cell_type": "code",
   "execution_count": null,
   "metadata": {
    "collapsed": true
   },
   "outputs": [],
   "source": [
    "past.head()"
   ]
  },
  {
   "cell_type": "code",
   "execution_count": 17,
   "metadata": {
    "collapsed": false
   },
   "outputs": [
    {
     "data": {
      "text/html": [
       "<div>\n",
       "<table border=\"1\" class=\"dataframe\">\n",
       "  <thead>\n",
       "    <tr style=\"text-align: right;\">\n",
       "      <th></th>\n",
       "      <th>dep_day</th>\n",
       "      <th>arr_city_name</th>\n",
       "      <th>seats</th>\n",
       "      <th>seatsleft</th>\n",
       "      <th>distance</th>\n",
       "    </tr>\n",
       "  </thead>\n",
       "  <tbody>\n",
       "    <tr>\n",
       "      <th>0</th>\n",
       "      <td>2017-01-01</td>\n",
       "      <td>rovigo</td>\n",
       "      <td>3</td>\n",
       "      <td>3</td>\n",
       "      <td>244</td>\n",
       "    </tr>\n",
       "    <tr>\n",
       "      <th>1</th>\n",
       "      <td>2017-01-01</td>\n",
       "      <td>rovigo</td>\n",
       "      <td>3</td>\n",
       "      <td>3</td>\n",
       "      <td>242</td>\n",
       "    </tr>\n",
       "    <tr>\n",
       "      <th>2</th>\n",
       "      <td>2017-01-01</td>\n",
       "      <td>parma</td>\n",
       "      <td>3</td>\n",
       "      <td>3</td>\n",
       "      <td>128</td>\n",
       "    </tr>\n",
       "    <tr>\n",
       "      <th>3</th>\n",
       "      <td>2017-01-01</td>\n",
       "      <td>bruxelles</td>\n",
       "      <td>3</td>\n",
       "      <td>3</td>\n",
       "      <td>912</td>\n",
       "    </tr>\n",
       "    <tr>\n",
       "      <th>4</th>\n",
       "      <td>2017-01-01</td>\n",
       "      <td>roma</td>\n",
       "      <td>3</td>\n",
       "      <td>3</td>\n",
       "      <td>572</td>\n",
       "    </tr>\n",
       "  </tbody>\n",
       "</table>\n",
       "</div>"
      ],
      "text/plain": [
       "      dep_day arr_city_name  seats  seatsleft  distance\n",
       "0  2017-01-01        rovigo      3          3       244\n",
       "1  2017-01-01        rovigo      3          3       242\n",
       "2  2017-01-01         parma      3          3       128\n",
       "3  2017-01-01     bruxelles      3          3       912\n",
       "4  2017-01-01          roma      3          3       572"
      ]
     },
     "execution_count": 17,
     "metadata": {},
     "output_type": "execute_result"
    }
   ],
   "source": [
    "# group by day and city\n",
    "day_city = past[['dep_day','arr_city_name','seats','seatsleft','distance']]\n",
    "day_city.head()"
   ]
  },
  {
   "cell_type": "code",
   "execution_count": 18,
   "metadata": {
    "collapsed": false
   },
   "outputs": [],
   "source": [
    "# Define a dictionary with the functions to apply for a given column:\n",
    "f = {'seats': 'sum', 'seatsleft': 'sum', 'distance':'mean'}\n",
    "\n",
    "daily_trips = day_city.groupby(['dep_day','arr_city_name']).agg(f)"
   ]
  },
  {
   "cell_type": "code",
   "execution_count": 19,
   "metadata": {
    "collapsed": false
   },
   "outputs": [
    {
     "data": {
      "text/html": [
       "<div>\n",
       "<table border=\"1\" class=\"dataframe\">\n",
       "  <thead>\n",
       "    <tr style=\"text-align: right;\">\n",
       "      <th></th>\n",
       "      <th></th>\n",
       "      <th>seatsleft</th>\n",
       "      <th>distance</th>\n",
       "      <th>seats</th>\n",
       "    </tr>\n",
       "    <tr>\n",
       "      <th>dep_day</th>\n",
       "      <th>arr_city_name</th>\n",
       "      <th></th>\n",
       "      <th></th>\n",
       "      <th></th>\n",
       "    </tr>\n",
       "  </thead>\n",
       "  <tbody>\n",
       "    <tr>\n",
       "      <th rowspan=\"5\" valign=\"top\">2017-01-01</th>\n",
       "      <th>ancona</th>\n",
       "      <td>1</td>\n",
       "      <td>425.0</td>\n",
       "      <td>1</td>\n",
       "    </tr>\n",
       "    <tr>\n",
       "      <th>aosta</th>\n",
       "      <td>2</td>\n",
       "      <td>179.0</td>\n",
       "      <td>3</td>\n",
       "    </tr>\n",
       "    <tr>\n",
       "      <th>arcore</th>\n",
       "      <td>3</td>\n",
       "      <td>37.0</td>\n",
       "      <td>3</td>\n",
       "    </tr>\n",
       "    <tr>\n",
       "      <th>ascoli piceno</th>\n",
       "      <td>1</td>\n",
       "      <td>529.0</td>\n",
       "      <td>2</td>\n",
       "    </tr>\n",
       "    <tr>\n",
       "      <th>barzio</th>\n",
       "      <td>3</td>\n",
       "      <td>66.0</td>\n",
       "      <td>3</td>\n",
       "    </tr>\n",
       "  </tbody>\n",
       "</table>\n",
       "</div>"
      ],
      "text/plain": [
       "                          seatsleft  distance  seats\n",
       "dep_day    arr_city_name                            \n",
       "2017-01-01 ancona                 1     425.0      1\n",
       "           aosta                  2     179.0      3\n",
       "           arcore                 3      37.0      3\n",
       "           ascoli piceno          1     529.0      2\n",
       "           barzio                 3      66.0      3"
      ]
     },
     "execution_count": 19,
     "metadata": {},
     "output_type": "execute_result"
    }
   ],
   "source": [
    "daily_trips.head()"
   ]
  },
  {
   "cell_type": "code",
   "execution_count": 47,
   "metadata": {
    "collapsed": true
   },
   "outputs": [],
   "source": [
    "fulljan = pd.read_csv('./Data/Storico/Full_Jan.csv', header = 1, index_col = 0)\n",
    "fullfeb = pd.read_csv('./Data/Storico/Full_Feb.csv', header = 1, index_col = 0)\n",
    "fullmar = pd.read_csv('./Data/Storico/Full_Mar.csv', header = 1, index_col = 0)"
   ]
  },
  {
   "cell_type": "code",
   "execution_count": 48,
   "metadata": {
    "collapsed": true
   },
   "outputs": [],
   "source": [
    "new_ind = [i.lower() for i in fulljan.index]\n",
    "\n",
    "fulljan.index = new_ind"
   ]
  },
  {
   "cell_type": "code",
   "execution_count": 58,
   "metadata": {
    "collapsed": true
   },
   "outputs": [
    {
     "data": {
      "text/html": [
       "<div>\n",
       "<table border=\"1\" class=\"dataframe\">\n",
       "  <thead>\n",
       "    <tr style=\"text-align: right;\">\n",
       "      <th></th>\n",
       "      <th>2017-01-01</th>\n",
       "      <th>2017-01-02</th>\n",
       "      <th>2017-01-03</th>\n",
       "      <th>2017-01-04</th>\n",
       "      <th>2017-01-05</th>\n",
       "      <th>2017-01-06</th>\n",
       "      <th>2017-01-07</th>\n",
       "      <th>2017-01-08</th>\n",
       "      <th>2017-01-09</th>\n",
       "      <th>2017-01-10</th>\n",
       "      <th>...</th>\n",
       "      <th>2017-01-22</th>\n",
       "      <th>2017-01-23</th>\n",
       "      <th>2017-01-24</th>\n",
       "      <th>2017-01-25</th>\n",
       "      <th>2017-01-26</th>\n",
       "      <th>2017-01-27</th>\n",
       "      <th>2017-01-28</th>\n",
       "      <th>2017-01-29</th>\n",
       "      <th>2017-01-30</th>\n",
       "      <th>2017-01-31</th>\n",
       "    </tr>\n",
       "  </thead>\n",
       "  <tbody>\n",
       "    <tr>\n",
       "      <th>monaco di baviera</th>\n",
       "      <td>1.0</td>\n",
       "      <td>1.0</td>\n",
       "      <td>NaN</td>\n",
       "      <td>NaN</td>\n",
       "      <td>NaN</td>\n",
       "      <td>NaN</td>\n",
       "      <td>0.0</td>\n",
       "      <td>8.0</td>\n",
       "      <td>NaN</td>\n",
       "      <td>NaN</td>\n",
       "      <td>...</td>\n",
       "      <td>NaN</td>\n",
       "      <td>NaN</td>\n",
       "      <td>NaN</td>\n",
       "      <td>0.0</td>\n",
       "      <td>NaN</td>\n",
       "      <td>NaN</td>\n",
       "      <td>NaN</td>\n",
       "      <td>0.0</td>\n",
       "      <td>NaN</td>\n",
       "      <td>NaN</td>\n",
       "    </tr>\n",
       "  </tbody>\n",
       "</table>\n",
       "<p>1 rows × 31 columns</p>\n",
       "</div>"
      ],
      "text/plain": [
       "                   2017-01-01  2017-01-02  2017-01-03  2017-01-04  2017-01-05  \\\n",
       "monaco di baviera         1.0         1.0         NaN         NaN         NaN   \n",
       "\n",
       "                   2017-01-06  2017-01-07  2017-01-08  2017-01-09  2017-01-10  \\\n",
       "monaco di baviera         NaN         0.0         8.0         NaN         NaN   \n",
       "\n",
       "                      ...      2017-01-22  2017-01-23  2017-01-24  2017-01-25  \\\n",
       "monaco di baviera     ...             NaN         NaN         NaN         0.0   \n",
       "\n",
       "                   2017-01-26  2017-01-27  2017-01-28  2017-01-29  2017-01-30  \\\n",
       "monaco di baviera         NaN         NaN         NaN         0.0         NaN   \n",
       "\n",
       "                   2017-01-31  \n",
       "monaco di baviera         NaN  \n",
       "\n",
       "[1 rows x 31 columns]"
      ]
     },
     "execution_count": 58,
     "metadata": {},
     "output_type": "execute_result"
    }
   ],
   "source": [
    "provajan[provajan.index == 'monaco di baviera']"
   ]
  },
  {
   "cell_type": "code",
   "execution_count": 51,
   "metadata": {
    "collapsed": true
   },
   "outputs": [],
   "source": [
    "new_ind = [i.lower() for i in fullfeb.index]\n",
    "\n",
    "fullfeb.index = new_ind"
   ]
  },
  {
   "cell_type": "code",
   "execution_count": 52,
   "metadata": {
    "collapsed": true
   },
   "outputs": [],
   "source": [
    "new_ind = [i.lower() for i in fullmar.index]\n",
    "\n",
    "fullmar.index = new_ind"
   ]
  },
  {
   "cell_type": "code",
   "execution_count": 60,
   "metadata": {
    "collapsed": false
   },
   "outputs": [],
   "source": [
    "fulljan = fulljan.groupby(fulljan.index).sum()\n",
    "fullfeb = fullfeb.groupby(fullfeb.index).sum()\n",
    "fullmar = fullmar.groupby(fullmar.index).sum()\n"
   ]
  },
  {
   "cell_type": "code",
   "execution_count": 35,
   "metadata": {
    "collapsed": true
   },
   "outputs": [],
   "source": [
    "daily_trips['fullseats'] = 0"
   ]
  },
  {
   "cell_type": "code",
   "execution_count": 61,
   "metadata": {
    "collapsed": false,
    "scrolled": true
   },
   "outputs": [],
   "source": [
    "ind = 0\n",
    "\n",
    "while daily_trips.index[ind][0] <= '2017-01-31':\n",
    "    data, citta = daily_trips.index[ind]\n",
    "    fulltrips = fulljan.loc[citta,data]\n",
    "    if daily_trips['distance'][ind] < 250 :\n",
    "        full_seats_est = ceil(2.8 * fulltrips)\n",
    "    else:\n",
    "        full_seats_est = floor(2.7 * fulltrips)\n",
    "    \n",
    "    daily_trips.set_value(daily_trips.index[ind],'fullseats', full_seats_est)\n",
    "    \n",
    "    ind += 1\n",
    "    \n",
    "while daily_trips.index[ind][0] < '2017-03-01':\n",
    "    data, citta = daily_trips.index[ind]\n",
    "    fulltrips = fullfeb.loc[citta,data]\n",
    "    if daily_trips['distance'][ind] < 250 :\n",
    "        full_seats_est = ceil(2.8 * fulltrips)\n",
    "    else:\n",
    "        full_seats_est = floor(2.7 * fulltrips)\n",
    "    \n",
    "    daily_trips.set_value(daily_trips.index[ind],'fullseats', full_seats_est)\n",
    "    \n",
    "    ind += 1\n",
    "\n",
    "while ind < len(daily_trips):\n",
    "    data, citta = daily_trips.index[ind]\n",
    "    fulltrips = fullmar.loc[citta,data]\n",
    "    if daily_trips['distance'][ind] < 250 :\n",
    "        full_seats_est = ceil(2.8 * fulltrips)\n",
    "    else:\n",
    "        full_seats_est = floor(2.7 * fulltrips)\n",
    "    \n",
    "    daily_trips.set_value(daily_trips.index[ind],'fullseats', full_seats_est)\n",
    "    \n",
    "    ind += 1\n",
    "    "
   ]
  },
  {
   "cell_type": "code",
   "execution_count": 62,
   "metadata": {
    "collapsed": false
   },
   "outputs": [
    {
     "data": {
      "text/html": [
       "<div>\n",
       "<table border=\"1\" class=\"dataframe\">\n",
       "  <thead>\n",
       "    <tr style=\"text-align: right;\">\n",
       "      <th></th>\n",
       "      <th></th>\n",
       "      <th>seatsleft</th>\n",
       "      <th>distance</th>\n",
       "      <th>seats</th>\n",
       "      <th>fullseats</th>\n",
       "    </tr>\n",
       "    <tr>\n",
       "      <th>dep_day</th>\n",
       "      <th>arr_city_name</th>\n",
       "      <th></th>\n",
       "      <th></th>\n",
       "      <th></th>\n",
       "      <th></th>\n",
       "    </tr>\n",
       "  </thead>\n",
       "  <tbody>\n",
       "    <tr>\n",
       "      <th rowspan=\"5\" valign=\"top\">2017-01-01</th>\n",
       "      <th>ancona</th>\n",
       "      <td>1</td>\n",
       "      <td>425.0</td>\n",
       "      <td>1</td>\n",
       "      <td>0</td>\n",
       "    </tr>\n",
       "    <tr>\n",
       "      <th>aosta</th>\n",
       "      <td>2</td>\n",
       "      <td>179.0</td>\n",
       "      <td>3</td>\n",
       "      <td>12</td>\n",
       "    </tr>\n",
       "    <tr>\n",
       "      <th>arcore</th>\n",
       "      <td>3</td>\n",
       "      <td>37.0</td>\n",
       "      <td>3</td>\n",
       "      <td>0</td>\n",
       "    </tr>\n",
       "    <tr>\n",
       "      <th>ascoli piceno</th>\n",
       "      <td>1</td>\n",
       "      <td>529.0</td>\n",
       "      <td>2</td>\n",
       "      <td>0</td>\n",
       "    </tr>\n",
       "    <tr>\n",
       "      <th>barzio</th>\n",
       "      <td>3</td>\n",
       "      <td>66.0</td>\n",
       "      <td>3</td>\n",
       "      <td>0</td>\n",
       "    </tr>\n",
       "  </tbody>\n",
       "</table>\n",
       "</div>"
      ],
      "text/plain": [
       "                          seatsleft  distance  seats  fullseats\n",
       "dep_day    arr_city_name                                       \n",
       "2017-01-01 ancona                 1     425.0      1          0\n",
       "           aosta                  2     179.0      3         12\n",
       "           arcore                 3      37.0      3          0\n",
       "           ascoli piceno          1     529.0      2          0\n",
       "           barzio                 3      66.0      3          0"
      ]
     },
     "execution_count": 62,
     "metadata": {},
     "output_type": "execute_result"
    }
   ],
   "source": [
    "daily_trips.head()"
   ]
  },
  {
   "cell_type": "code",
   "execution_count": 63,
   "metadata": {
    "collapsed": true
   },
   "outputs": [],
   "source": [
    "daily_trips['fullseats'] += daily_trips['seats'] - daily_trips['seatsleft']"
   ]
  },
  {
   "cell_type": "code",
   "execution_count": 64,
   "metadata": {
    "collapsed": false
   },
   "outputs": [
    {
     "data": {
      "text/html": [
       "<div>\n",
       "<table border=\"1\" class=\"dataframe\">\n",
       "  <thead>\n",
       "    <tr style=\"text-align: right;\">\n",
       "      <th></th>\n",
       "      <th></th>\n",
       "      <th>seatsleft</th>\n",
       "      <th>distance</th>\n",
       "      <th>seats</th>\n",
       "      <th>fullseats</th>\n",
       "    </tr>\n",
       "    <tr>\n",
       "      <th>dep_day</th>\n",
       "      <th>arr_city_name</th>\n",
       "      <th></th>\n",
       "      <th></th>\n",
       "      <th></th>\n",
       "      <th></th>\n",
       "    </tr>\n",
       "  </thead>\n",
       "  <tbody>\n",
       "    <tr>\n",
       "      <th rowspan=\"5\" valign=\"top\">2017-01-01</th>\n",
       "      <th>ancona</th>\n",
       "      <td>1</td>\n",
       "      <td>425.0</td>\n",
       "      <td>1</td>\n",
       "      <td>0</td>\n",
       "    </tr>\n",
       "    <tr>\n",
       "      <th>aosta</th>\n",
       "      <td>2</td>\n",
       "      <td>179.0</td>\n",
       "      <td>3</td>\n",
       "      <td>13</td>\n",
       "    </tr>\n",
       "    <tr>\n",
       "      <th>arcore</th>\n",
       "      <td>3</td>\n",
       "      <td>37.0</td>\n",
       "      <td>3</td>\n",
       "      <td>0</td>\n",
       "    </tr>\n",
       "    <tr>\n",
       "      <th>ascoli piceno</th>\n",
       "      <td>1</td>\n",
       "      <td>529.0</td>\n",
       "      <td>2</td>\n",
       "      <td>1</td>\n",
       "    </tr>\n",
       "    <tr>\n",
       "      <th>barzio</th>\n",
       "      <td>3</td>\n",
       "      <td>66.0</td>\n",
       "      <td>3</td>\n",
       "      <td>0</td>\n",
       "    </tr>\n",
       "  </tbody>\n",
       "</table>\n",
       "</div>"
      ],
      "text/plain": [
       "                          seatsleft  distance  seats  fullseats\n",
       "dep_day    arr_city_name                                       \n",
       "2017-01-01 ancona                 1     425.0      1          0\n",
       "           aosta                  2     179.0      3         13\n",
       "           arcore                 3      37.0      3          0\n",
       "           ascoli piceno          1     529.0      2          1\n",
       "           barzio                 3      66.0      3          0"
      ]
     },
     "execution_count": 64,
     "metadata": {},
     "output_type": "execute_result"
    }
   ],
   "source": [
    "daily_trips.head()"
   ]
  },
  {
   "cell_type": "code",
   "execution_count": 67,
   "metadata": {
    "collapsed": false
   },
   "outputs": [
    {
     "name": "stdout",
     "output_type": "stream",
     "text": [
      "      dep_day  arr_city_name  seatsleft  distance  seats  fullseats\n",
      "0  2017-01-01         ancona          1     425.0      1          0\n",
      "1  2017-01-01          aosta          2     179.0      3         13\n",
      "2  2017-01-01         arcore          3      37.0      3          0\n",
      "3  2017-01-01  ascoli piceno          1     529.0      2          1\n",
      "4  2017-01-01         barzio          3      66.0      3          0\n"
     ]
    }
   ],
   "source": [
    "temp = daily_trips.reset_index()\n",
    "print temp.head()"
   ]
  },
  {
   "cell_type": "code",
   "execution_count": 68,
   "metadata": {
    "collapsed": false
   },
   "outputs": [],
   "source": [
    "shortdist = temp[temp['distance'] < 250][['dep_day','seatsleft','fullseats']]"
   ]
  },
  {
   "cell_type": "code",
   "execution_count": 69,
   "metadata": {
    "collapsed": false
   },
   "outputs": [
    {
     "data": {
      "text/html": [
       "<div>\n",
       "<table border=\"1\" class=\"dataframe\">\n",
       "  <thead>\n",
       "    <tr style=\"text-align: right;\">\n",
       "      <th></th>\n",
       "      <th>dep_day</th>\n",
       "      <th>seatsleft</th>\n",
       "      <th>fullseats</th>\n",
       "    </tr>\n",
       "  </thead>\n",
       "  <tbody>\n",
       "    <tr>\n",
       "      <th>1</th>\n",
       "      <td>2017-01-01</td>\n",
       "      <td>2</td>\n",
       "      <td>13</td>\n",
       "    </tr>\n",
       "    <tr>\n",
       "      <th>2</th>\n",
       "      <td>2017-01-01</td>\n",
       "      <td>3</td>\n",
       "      <td>0</td>\n",
       "    </tr>\n",
       "    <tr>\n",
       "      <th>4</th>\n",
       "      <td>2017-01-01</td>\n",
       "      <td>3</td>\n",
       "      <td>0</td>\n",
       "    </tr>\n",
       "    <tr>\n",
       "      <th>6</th>\n",
       "      <td>2017-01-01</td>\n",
       "      <td>5</td>\n",
       "      <td>5</td>\n",
       "    </tr>\n",
       "    <tr>\n",
       "      <th>9</th>\n",
       "      <td>2017-01-01</td>\n",
       "      <td>22</td>\n",
       "      <td>12</td>\n",
       "    </tr>\n",
       "  </tbody>\n",
       "</table>\n",
       "</div>"
      ],
      "text/plain": [
       "      dep_day  seatsleft  fullseats\n",
       "1  2017-01-01          2         13\n",
       "2  2017-01-01          3          0\n",
       "4  2017-01-01          3          0\n",
       "6  2017-01-01          5          5\n",
       "9  2017-01-01         22         12"
      ]
     },
     "execution_count": 69,
     "metadata": {},
     "output_type": "execute_result"
    }
   ],
   "source": [
    "shortdist.head()"
   ]
  },
  {
   "cell_type": "code",
   "execution_count": 70,
   "metadata": {
    "collapsed": false
   },
   "outputs": [],
   "source": [
    "longdist = temp[temp['distance'] >= 250][['dep_day','seatsleft','fullseats']]"
   ]
  },
  {
   "cell_type": "code",
   "execution_count": 71,
   "metadata": {
    "collapsed": false
   },
   "outputs": [
    {
     "data": {
      "text/html": [
       "<div>\n",
       "<table border=\"1\" class=\"dataframe\">\n",
       "  <thead>\n",
       "    <tr style=\"text-align: right;\">\n",
       "      <th></th>\n",
       "      <th>dep_day</th>\n",
       "      <th>seatsleft</th>\n",
       "      <th>fullseats</th>\n",
       "    </tr>\n",
       "  </thead>\n",
       "  <tbody>\n",
       "    <tr>\n",
       "      <th>0</th>\n",
       "      <td>2017-01-01</td>\n",
       "      <td>1</td>\n",
       "      <td>0</td>\n",
       "    </tr>\n",
       "    <tr>\n",
       "      <th>3</th>\n",
       "      <td>2017-01-01</td>\n",
       "      <td>1</td>\n",
       "      <td>1</td>\n",
       "    </tr>\n",
       "    <tr>\n",
       "      <th>5</th>\n",
       "      <td>2017-01-01</td>\n",
       "      <td>2</td>\n",
       "      <td>5</td>\n",
       "    </tr>\n",
       "    <tr>\n",
       "      <th>7</th>\n",
       "      <td>2017-01-01</td>\n",
       "      <td>2</td>\n",
       "      <td>1</td>\n",
       "    </tr>\n",
       "    <tr>\n",
       "      <th>8</th>\n",
       "      <td>2017-01-01</td>\n",
       "      <td>2</td>\n",
       "      <td>0</td>\n",
       "    </tr>\n",
       "  </tbody>\n",
       "</table>\n",
       "</div>"
      ],
      "text/plain": [
       "      dep_day  seatsleft  fullseats\n",
       "0  2017-01-01          1          0\n",
       "3  2017-01-01          1          1\n",
       "5  2017-01-01          2          5\n",
       "7  2017-01-01          2          1\n",
       "8  2017-01-01          2          0"
      ]
     },
     "execution_count": 71,
     "metadata": {},
     "output_type": "execute_result"
    }
   ],
   "source": [
    "longdist.head()"
   ]
  },
  {
   "cell_type": "code",
   "execution_count": 72,
   "metadata": {
    "collapsed": true
   },
   "outputs": [],
   "source": [
    "shortdist_g = shortdist.groupby('dep_day').sum()\n",
    "longdist_g = longdist.groupby('dep_day').sum()"
   ]
  },
  {
   "cell_type": "code",
   "execution_count": 73,
   "metadata": {
    "collapsed": false
   },
   "outputs": [
    {
     "data": {
      "text/html": [
       "<div>\n",
       "<table border=\"1\" class=\"dataframe\">\n",
       "  <thead>\n",
       "    <tr style=\"text-align: right;\">\n",
       "      <th></th>\n",
       "      <th>seatsleft</th>\n",
       "      <th>fullseats</th>\n",
       "    </tr>\n",
       "    <tr>\n",
       "      <th>dep_day</th>\n",
       "      <th></th>\n",
       "      <th></th>\n",
       "    </tr>\n",
       "  </thead>\n",
       "  <tbody>\n",
       "    <tr>\n",
       "      <th>2017-01-01</th>\n",
       "      <td>199</td>\n",
       "      <td>159</td>\n",
       "    </tr>\n",
       "    <tr>\n",
       "      <th>2017-01-02</th>\n",
       "      <td>267</td>\n",
       "      <td>217</td>\n",
       "    </tr>\n",
       "    <tr>\n",
       "      <th>2017-01-03</th>\n",
       "      <td>226</td>\n",
       "      <td>147</td>\n",
       "    </tr>\n",
       "    <tr>\n",
       "      <th>2017-01-04</th>\n",
       "      <td>249</td>\n",
       "      <td>144</td>\n",
       "    </tr>\n",
       "    <tr>\n",
       "      <th>2017-01-05</th>\n",
       "      <td>391</td>\n",
       "      <td>293</td>\n",
       "    </tr>\n",
       "  </tbody>\n",
       "</table>\n",
       "</div>"
      ],
      "text/plain": [
       "            seatsleft  fullseats\n",
       "dep_day                         \n",
       "2017-01-01        199        159\n",
       "2017-01-02        267        217\n",
       "2017-01-03        226        147\n",
       "2017-01-04        249        144\n",
       "2017-01-05        391        293"
      ]
     },
     "execution_count": 73,
     "metadata": {},
     "output_type": "execute_result"
    }
   ],
   "source": [
    "shortdist_g.head()"
   ]
  },
  {
   "cell_type": "code",
   "execution_count": 74,
   "metadata": {
    "collapsed": false
   },
   "outputs": [
    {
     "data": {
      "image/png": "[encoded data removed]",
      "text/plain": [
       "<matplotlib.figure.Figure at 0x7f03b3c36e90>"
      ]
     },
     "metadata": {},
     "output_type": "display_data"
    }
   ],
   "source": [
    "# Total number of seats available\n",
    "\n",
    "shortdist_g.index = pd.to_datetime(shortdist_g.index)\n",
    "longdist_g.index = pd.to_datetime(longdist_g.index)\n",
    "\n",
    "# SHORT\n",
    "plt.gca().xaxis.set_major_formatter(mdates.DateFormatter(\"%Y-%m-%d\"))\n",
    "plt.gca().xaxis.set_major_locator(mdates.MonthLocator()) # Weekday\n",
    "plt.plot(shortdist_g.index, shortdist_g['fullseats']+shortdist_g['seatsleft'], 'r')\n",
    "plt.gcf().autofmt_xdate()\n",
    "#plt.savefig('seats_left_tot.png')\n",
    "\n",
    "# LONG\n",
    "plt.gca().xaxis.set_major_formatter(mdates.DateFormatter(\"%Y-%m-%d\"))\n",
    "plt.gca().xaxis.set_major_locator(mdates.MonthLocator()) # Weekday\n",
    "plt.plot(longdist_g.index, longdist_g['fullseats']+longdist_g['seatsleft'], 'b')\n",
    "plt.gcf().autofmt_xdate()\n",
    "\n",
    "plt.show()\n"
   ]
  },
  {
   "cell_type": "code",
   "execution_count": 75,
   "metadata": {
    "collapsed": false
   },
   "outputs": [
    {
     "data": {
      "image/png": "[encoded data removed]",
      "text/plain": [
       "<matplotlib.figure.Figure at 0x7f03b10e72d0>"
      ]
     },
     "metadata": {},
     "output_type": "display_data"
    }
   ],
   "source": [
    "# Ratio between seatsleft and total_seats\n",
    "\n",
    "# SHORT (RED)\n",
    "plt.gca().xaxis.set_major_formatter(mdates.DateFormatter(\"%Y-%m-%d\"))\n",
    "plt.gca().xaxis.set_major_locator(mdates.MonthLocator()) # Weekday\n",
    "plt.plot(shortdist_g.index, shortdist_g['seatsleft']/(shortdist_g['fullseats']+shortdist_g['seatsleft']), 'r')\n",
    "plt.gcf().autofmt_xdate()\n",
    "#plt.savefig('seats_left_tot.png')\n",
    "\n",
    "# LONG (BLUE)\n",
    "plt.gca().xaxis.set_major_formatter(mdates.DateFormatter(\"%Y-%m-%d\"))\n",
    "plt.gca().xaxis.set_major_locator(mdates.MonthLocator()) # Weekday\n",
    "plt.plot(longdist_g.index, longdist_g['seatsleft']/(longdist_g['fullseats']+longdist_g['seatsleft']), 'b')\n",
    "plt.gcf().autofmt_xdate()\n",
    "\n",
    "plt.show()\n"
   ]
  },
  {
   "cell_type": "code",
   "execution_count": 76,
   "metadata": {
    "collapsed": true
   },
   "outputs": [],
   "source": [
    "# count for each city how many days there were at least a trip\n",
    "\n",
    "jantrips = fulljan.count(axis=1)\n",
    "febtrips = fullfeb.count(axis=1)\n",
    "martrips = fullmar.count(axis=1)"
   ]
  },
  {
   "cell_type": "code",
   "execution_count": 77,
   "metadata": {
    "collapsed": true
   },
   "outputs": [],
   "source": [
    "from collections import Counter\n",
    "\n",
    "jandict = Counter(jantrips.to_dict())\n",
    "febdict = Counter(febtrips.to_dict())\n",
    "mardict = Counter(martrips.to_dict())"
   ]
  },
  {
   "cell_type": "code",
   "execution_count": 78,
   "metadata": {
    "collapsed": false
   },
   "outputs": [],
   "source": [
    "tripday = jandict + febdict + mardict"
   ]
  },
  {
   "cell_type": "code",
   "execution_count": 79,
   "metadata": {
    "collapsed": false
   },
   "outputs": [
    {
     "name": "stdout",
     "output_type": "stream",
     "text": [
      "Counter({'genova': 89, 'parma': 89, 'bologna': 89, 'verona': 88, 'brescia': 88, 'torino': 88, 'bergamo': 88, 'piacenza': 86, 'firenze': 83, 'padova': 83, 'lugano': 82, 'roma': 81, 'varese': 80, 'orio al serio': 79, 'modena': 78, 'rimini': 74, 'trento': 74, 'venezia': 72, 'pavia': 71, 'savona': 70, 'la spezia': 70, 'vicenza': 70, 'asti': 68, 'aosta': 67, 'ferno': 65, 'novara': 64, 'pisa': 62, 'reggio emilia': 61, 'milano': 60, 'alessandria': 59, 'sesto san giovanni': 59, 'basilea': 58, 'ancona': 56, 'cesena': 54, 'biella': 52, 'como': 52, 'perugia': 52, 'treviso': 51, 'zurigo': 50, 'chiasso': 46, 'alba': 46, 'nizza': 46, 'ravenna': 45, 'viareggio': 45, 'trieste': 45, 'bolzano': 44, 'udine': 43, 'sarzana': 41, 'peschiera del garda': 41, 'ivrea': 40, 'monza': 40, 'sondrio': 40, 'livorno': 40, 'cremona': 40, 'forl\\xc3\\xac': 39, 'lucca': 38, \"trezzo sull'adda\": 37, 'siena': 37, 'sanremo': 37, 'napoli': 35, 'rovereto': 35, 'nibionno': 34, 'legnano': 34, 'lecco': 34, 'pesaro': 33, 'corbetta': 32, 'lucerna': 32, 'fano': 32, 'pordenone': 31, 'chiavari': 31, 'ferrara': 31, 'segrate': 31, 'costa masnaga': 31, 'san donato milanese': 31, 'courmayeur': 30, 'pescara': 29, 'fidenza': 29, 'rapallo': 29, 'tortona': 28, 'ponte san pietro': 27, 'imperia': 27, 'san benedetto del tronto': 27, 'monaco di baviera': 27, 'bellinzona': 26, 'bassano del grappa': 26, 'massa': 26, 'mariano comense': 26, 'varazze': 25, 'lodi': 25, 'azzano san paolo': 25, 'rho': 25, 'santhi\\xc3\\xa0': 25, 'monaco-ville': 25, 'prato': 24, 'ginevra': 24, 'bettola-zeloforamagno': 24, 'mantova': 24, 'san lazzaro di savena': 24, 'domodossola': 24, 'francoforte': 23, 'faenza': 23, 'civitanova marche': 23, 'carrara': 23, 'santuario': 23, 'collegno': 23, 'sestri levante': 23, 'grenoble': 22, 'strasburgo': 22, 'guanzate': 22, 'arcore': 22, 'giovenzano': 21, 'albenga': 21, 'senigallia': 21, 'riccione': 21, 'arenzano': 21, 'rovigo': 21, 'capriate san gervasio': 20, 'lione': 20, 'novi ligure': 20, 'loano': 20, 'mendrisio': 19, 'impruneta': 19, 'calolziocorte': 19, 'morbegno': 19, 'cattolica': 19, 'stoccarda': 18, 'paradiso': 18, 'bari': 18, 'finale ligure': 18, 'chamonix-mont-blanc': 18, 'arezzo': 18, 'alassio': 17, 'castelfranco veneto': 17, 'settimo milanese': 17, 'ventimiglia': 17, 'caronno pertusella': 17, 'scandicci': 16, 'sesto calende': 16, 'jesi': 16, 'foligno': 16, 'cant\\xc3\\xb9': 16, 'lecce': 16, 'santo stefano di magra': 16, 'ovada': 16, 'montebelluna': 16, 'parigi': 15, 'verbania': 15, 'dalmine': 15, 'chivasso': 15, 'serravalle scrivia': 15, 'fossano': 15, 'desenzano del garda': 15, 'calvignasco': 14, 'ascoli piceno': 14, 'bordighera': 14, 'grosseto': 14, 'gallarate': 14, 'chiavenna': 14, 'gravellona toce': 14, 'breuil-cervinia': 14, 'conegliano': 13, 'portogruaro': 13, 'pietrasanta': 13, 'recco': 13, 'cesenatico': 13, 'losanna': 13, 'bormio': 13, 'foggia': 13, 'gropello cairoli': 13, 'thiene': 13, 'pietra ligure': 12, 'lavagna': 12, 'busto arsizio': 12, 'darfo': 12, 'casalecchio di reno': 12, 'gorla maggiore': 12, 'arona': 12, 'viterbo': 12, 'monfalcone': 12, 'imola': 11, 'binasco': 11, 'san maurizio': 11, 'cogoleto': 11, 'lainate': 11, 'piovene rocchette': 11, 'vercelli': 11, 'san don\\xc3\\xa0 di piave': 11, 'grottammare': 11, 'vermezzo': 11, 'livigno': 11, \"cassano d'adda\": 11, 'carpi': 11, 'mombello di torino': 11, 'assago': 11, 'codroipo': 10, 'laveno-mombello': 10, 'albisola superiore': 10, 'diano marina': 10, 'piombino': 10, 'baar': 10, 'friburgo in brisgovia': 10, 'zagabria': 10, 'pistoia': 10, 'senago': 10, 'cuneo': 10, 'santa margherita ligure': 10, 'montpellier': 10, 'dr\\xc4\\x83g\\xc4\\x83\\xc8\\x99ani': 10, 'luino': 10, 'mentone': 10, 'bruxelles': 10, 'coira': 9, 'vittuone': 9, 'follonica': 9, 'riva del garda': 9, '\\xc4\\x8cernivci': 9, 'colico piano': 9, 'montecatini terme': 9, 'paderno dugnano': 9, 'melzo': 9, 'sassuolo': 9, 'berna': 9, 'tromello': 9, 'porto san giorgio': 9, \"porto sant'elpidio\": 9, 'san giovanni lupatoto': 9, 'rozzano': 9, 'vigevano': 9, 'borgomanero': 9, 'gravedona': 9, 'aulla': 9, 'muggi\\xc3\\xb2': 8, 'varedo': 8, 'cairo montenotte': 8, 'bosco marengo': 8, 'menaggio': 8, 'gavi': 8, 'caserta': 8, 'pont-saint-martin': 8, 'aspio terme': 8, 'pogno': 8, 'sesto ulteriano': 8, 'pieve ligure': 8, 'taranto': 8, 'desio': 8, 'sal\\xc3\\xb2': 8, 'pioltello': 8, 'santarcangelo di romagna': 8, 'belluno': 8, 'ferrovia': 8, 'champoluc': 8, 'cernobbio': 8, 'pinerolo': 8, 'grugliasco': 8, 'calenzano': 8, 'castel san pietro terme': 8, 'voghera': 8, 'barcellona': 8, 'chamb\\xc3\\xa9ry': 8, 'bor\\xc8\\x99a': 7, 'ulma': 7, 'mogliano veneto': 7, 'annemasse': 7, 'ponte taro': 7, 'san bonifacio': 7, 'neuch\\xc3\\xa2tel': 7, 'rovato': 7, 'affi': 7, 'san marino': 7, 'catania': 7, 'casarsa della delizia': 7, 'cossato': 7, 'gorizia': 7, 'chieti': 7, 'madonna di campiglio': 7, 'pinzolo': 7, 'locarno': 7, 'stabio': 7, 'pontremoli': 7, 'montecchio maggiore-alte ceccato': 7, 'locate di triulzi': 7, 'macerata': 7, 'quarona': 7, 'figline valdarno': 7, 'gressoney-saint-jean': 7, 'colle sestriere': 7, 'saluzzo': 7, 'porto recanati': 6, 'madesimo': 6, 'aereoporto \"v.catullo\"': 6, 'dueville': 6, 'sementina': 6, 'san bartolomeo al mare': 6, 'bresso': 6, \"quarto d'altino\": 6, 'ronchi dei legionari': 6, 'travagliato': 6, 'teramo': 6, 'albissola marina': 6, 'orte': 6, 'pandino': 6, 'san giuliano milanese': 6, 'tribiano': 6, 'riva presso chieri': 6, 'stresa': 6, 'san martino buon albergo': 6, 'ornavasso': 6, 'cecina': 6, 'schio': 6, 'spotorno': 6, 'vergiate': 6, 'lovere': 6, 'silea': 6, 'preganziol': 6, 'crema': 6, 'la thuile': 6, 'breno': 6, 'vienna': 6, 'forte dei marmi': 6, 'antibes': 6, 'giulianova': 6, 'aix-en-provence': 6, 'tirano': 6, 'pieve di soligo': 6, 'celle ligure': 6, 'lissone': 6, 'molini di triora': 6, 'palmanova': 6, 'brindisi': 5, 'berlino': 5, 'soave': 5, 'settimo torinese': 5, 'marotta': 5, 'bra': 5, 'alba adriatica': 5, 'certosa di pavia': 5, 'levanto': 5, 'mossini': 5, 'opicina': 5, 'innsbruck': 5, 'marostica': 5, 'falconara marittima': 5, 'ponte san giovanni': 5, 'marina di massa': 5, 'sarnico': 5, 'seveso': 5, 'sachseln': 5, 'san gallo': 5, 'sacile': 5, 'trivolzio': 5, 'karlsruhe': 5, 'montelupo fiorentino': 5, 'marsiglia': 5, 'verr\\xc3\\xa8s': 5, 'lubiana': 5, 'sansepolcro': 5, 'seregno': 5, 'sion': 5, 'augusta': 5, 'lerici': 5, 'le grand-saconnex': 5, 'massarosa': 4, 'gozzano': 4, 'tradate': 4, 'cassino': 4, 'legnago': 4, 'arco': 4, 'barletta': 4, 'campodolcino': 4, 'valdagno': 4, 'vinovo': 4, 'montreux': 4, 'cannes': 4, 'endine': 4, 'w\\xc3\\xbcrzburg': 4, \"cortina d'ampezzo\": 4, 'linate': 4, 'gussago': 4, 'villa guardia': 4, \"l'aquila\": 4, 'vittorio veneto': 4, 'casalpusterlengo': 4, 'vimercate': 4, 'norimberga': 4, 'outlet': 4, 'casale monferrato': 4, 'urbino': 4, 'savigliano': 4, 'levate': 4, 'camogli': 4, 'arma di taggia': 4, 'terni': 4, 'roseto degli abruzzi': 4, 'romagnano sesia': 4, 'mannheim': 4, 'mirano': 4, 'sirmione': 4, 'tricesimo': 4, 'novegro-tregarezzo': 4, 'mandello del lario': 4, 'seriate': 4, 'heidelberg': 4, 'mulhouse': 4, 'cinisello balsamo': 4, 'rolle': 4, 'benevento': 4, 'marina di carrara': 4, 'piove di sacco': 4, 'annecy': 4, 'abano terme': 4, 'nancy': 4, 'arzignano': 4, 'morgex': 4, 'caresanablot': 4, 'latina': 4, 'saronno': 4, \"sannazzaro de' burgondi\": 4, 'mondov\\xc3\\xac': 4, 'rivoli': 4, 'lido di ostia': 4, 'spoleto': 4, 'castelletto sopra ticino': 4, 'saint-vincent': 3, 'capua': 3, 'fornacette': 3, 'castel san giovanni': 3, 'civitavecchia': 3, 'costa di serina': 3, 'borgosesia': 3, 'concesio': 3, 'sommacampagna': 3, 'gubbio': 3, 'gaggiano': 3, 'saint-gilles': 3, 'ponte tresa': 3, 'iseo': 3, 'taggia': 3, 'capriolo': 3, 'villeneuve-loubet': 3, 'mel': 3, 'maranello': 3, 'caselle': 3, 'borgio': 3, 'meyrin': 3, 'amsterdam': 3, 'santa maria degli angeli': 3, 'maresso': 3, 'costa di mezzate': 3, 'lisanza': 3, 'saint-louis': 3, 'd\\xc3\\xbcsseldorf': 3, 'londra': 3, 'rescaldina': 3, 'lugo': 3, \"albiano d'ivrea\": 3, 'villaco': 3, 'fabriano': 3, 'baden': 3, 'acqui terme': 3, 'valdobbiadene': 3, 'recanati': 3, 'bellaria': 3, 'san salvatore monferrato': 3, 'bastia umbra': 3, 'cervignano del friuli': 3, 'salsomaggiore terme': 3, 'moncalieri': 3, 'corvara in badia': 3, 'vitoria-gasteiz': 3, 'san pietro in cariano': 3, 'san vito al tagliamento': 3, 'rotterdam': 3, 'bad ragaz': 3, 'bellinzago novarese': 3, 'entreves': 3, 'agordo': 3, 'andria': 3, 'oleggio': 3, 'forlimpopoli': 3, 'bareggio': 3, 'asolo': 3, 'oulx': 3, 'lindau': 3, 'noventa vicentina': 3, 'grenchen': 3, 'travo': 3, \"sant'angelo lodigiano\": 3, 'gallipoli': 3, 'molfetta': 3, 'arese': 3, 'musile di piave': 3, 'montano': 3, 'ponte di legno': 3, 'rivarolo canavese': 3, 'masate': 3, 'ravensburg': 3, 'ospitaletto': 3, 'ispra': 3, 'stazione': 3, 'baveno': 3, 'noventa di piave': 2, 'gala\\xc8\\x9bi': 2, 'bettolle': 2, 'valtournenche': 2, \"villanova d'albenga\": 2, 'pontecorvo': 2, 'moron': 2, 'saint-laurent-du-var': 2, 'castelfidardo': 2, 'fino mornasco': 2, 'oggiono': 2, 'monselice': 2, 'gambol\\xc3\\xb2': 2, 'zona industriale bellocchi': 2, 'vicolungo': 2, 'chiari': 2, 'occhiobello': 2, 'modane': 2, 'bucine': 2, 'sistiana': 2, 'digione': 2, 'soraga': 2, 'termoli': 2, 'gaggiolo': 2, 'paderno franciacorta': 2, 'cles': 2, 'baden-baden': 2, 'latisana': 2, 'memmingen': 2, 'codogno': 2, 'san pietro in casale': 2, 'san colombano al lambro': 2, 'valdengo': 2, 'fucecchio': 2, 'cervia': 2, 'lavena ponte tresa': 2, 'barzio': 2, 'castellammare di stabia': 2, 'aarau': 2, 'montorio al vomano': 2, 'pergine valsugana': 2, 'tolone': 2, 'plan-les-ouates': 2, 'cannobio': 2, 'frauenfeld': 2, 'martina franca': 2, 'treviglio': 2, 'sinalunga': 2, 'chiusi': 2, 'bardonecchia': 2, 'simplon': 2, 'viverone': 2, 'martigny': 2, 'foppolo': 2, 'fiorano': 2, 'calais': 2, 'nembro': 2, 'pontedera': 2, 'suello': 2, 'antey-saint-andr\\xc3\\xa9': 2, 'citt\\xc3\\xa0 di castello': 2, 'leinfelden-echterdingen': 2, 'arbon': 2, 'breganze': 2, 'bocca di magra': 2, 'chiesina uzzanese': 2, 'marina': 2, 'tai di cadore': 2, 'sarcedo': 2, 'torri di quartesolo': 2, 'somma lombardo': 2, 'gandino': 2, 'gressoney-la-trinit\\xc3\\xa8': 2, 'villafranca di verona': 2, \"san michele all'adige\": 2, 'bressanone': 2, 'vasto': 2, 'erba': 2, 'chieri': 2, 'settala': 2, 'cavalese': 2, 'fermo': 2, 'portovenere': 2, 'boario terme': 2, 'quercianella': 2, 'berbenno di valtellina': 2, 'merano': 2, 'vado ligure': 2, 'assisi': 2, 'ostra': 2, 'suvereto': 2, 'collestrada': 2, 'feldkirch': 2, 'figline e incisa valdarno': 2, 'trescore balneario': 2, 'lurate caccivio': 2, 'verrone': 2, 'canazei': 2, 'freienbach': 2, 'beinasco': 2, 'pedaso': 2, 'reutlingen': 2, 'fondotoce': 2, 'macugnaga': 2, 'cividate camuno': 2, 'sevelen': 2, 'producena-teola': 2, 'verano': 2, 'urgnano': 2, 'carmagnola': 2, 'magenta': 2, 'magnano': 2, 'feltre': 2, 'besan\\xc3\\xa7on': 2, 'campi bisenzio': 2, 'crevoladossola': 2, 'mandelieu-la-napoule': 2, 'caianello vecchio': 2, 'vigonovo': 2, 'zona industriale': 2, 'ardenno': 2, 'lussemburgo': 2, 'storo': 2, 'lignano sabbiadoro': 2, 'farniole': 2, 'bottai': 2, 'torrita di siena': 2, 'budapest': 2, 'pian camuno': 2, 'lachen': 2, 'laax': 2, 'edolo': 2, 'tavernelle': 2, 'muralto': 2, 'battipaglia': 2, 'verrayes': 2, 'alzano lombardo': 2, 'bolgare': 2, 'cento': 2, 'carnate': 2, 'alpignano': 2, 'frosinone': 2, 'bisceglie': 2, 'abbiategrasso': 2, 'grancetta': 2, 'bellagio': 2, 'leini': 2, 'porto potenza picena': 2, 'chianciano terme': 2, 'vignola': 2, 'laigueglia': 2, 'mezzocorona': 2, 'lamezia terme': 2, 'cesate': 2, 'bergeggi': 2, 'pizzighettone': 2, 'lido di camaiore': 2, 'sesto fiorentino': 2, 'san pietro al natisone': 2, 'selva di val gardena': 2, 'fossombrone': 2, 'bagno a ripoli': 2, 'brema': 2, 'omegna': 2, 'volano': 2, 'ronchi': 2, 'zona artigianale funo': 2, 'comerio': 2, 'manzano': 2, 'castelnuovo scrivia': 2, 'k\\xc3\\xbcssnacht': 2, 'venturina terme': 2, 'santa caterina': 2, 'mal\\xc3\\xa8': 2, 'ponte felcino': 2, 'guardamiglio': 2, 'cittadella': 2, 'albavilla': 2, 'vipiteno': 2, 'orzinuovi': 2, 'salerno': 2, \"lanzo d'intelvi\": 2, 'carugate': 2, 'budrio': 2, \"villanova d'asti\": 2, 'cusago': 2, 'crotone': 1, 'quarrata': 1, 'cascia': 1, 'brignole': 1, 'acquaviva delle fonti': 1, 'hy\\xc3\\xa8res': 1, 'horw': 1, 'vevey': 1, 'montichiari': 1, 'pedemonte': 1, 'orbassano': 1, 'san venanzio': 1, 'nommern': 1, 'vignole borbera': 1, 'corato': 1, 'bagolino': 1, 'walferdange': 1, 'dro': 1, 'chateau': 1, 'biandronno': 1, 'novate milanese': 1, 'chef-lieu': 1, 'bre': 1, 'caluso': 1, 'villafranca in lunigiana': 1, 'tetti cambiano': 1, 'centro fiera': 1, 'liscate': 1, 'pozzolo formigaro': 1, 'aurora': 1, \"canonica d'adda\": 1, 'zoppola': 1, 'brunico': 1, 'roncone': 1, 'cogne': 1, 'bienna': 1, 'saint-bon-tarentaise': 1, 'crailsheim': 1, 'magreglio': 1, 'zanica': 1, 'm\\xc3\\xbcnchsm\\xc3\\xbcnster': 1, 'grancia': 1, 'siderno': 1, 'chiesa in valmalenco': 1, \"sant'agata bolognese\": 1, 'lucera': 1, 'fontainebleau': 1, 'aversa': 1, 'bonn': 1, 'bomporto': 1, 'gardone val trompia': 1, 'marmirolo': 1, 'sedico': 1, 'borno': 1, 'dolzago': 1, 'melide': 1, 'pontasserchio': 1, 'predazzo': 1, 'auxerre': 1, 'gravina in puglia': 1, 'ragusa': 1, 'bibbiano': 1, 'canterbury': 1, 'cumiana': 1, 'schorndorf': 1, 'albignasego': 1, 'arquata scrivia': 1, 'volpedo': 1, 'leukerbad': 1, 'porretta terme': 1, 'clermont-ferrand': 1, 'castelrotto': 1, 'frascati': 1, 'barbarano vicentino': 1, 'endine gaiano': 1, 'este': 1, 'gemonio': 1, 'cesuna': 1, 'th\\xc3\\xb4nex': 1, 'bussolengo': 1, 'volpago del montello': 1, 'smederevo': 1, 'singen': 1, 'fenestrelle': 1, 'la cassa': 1, 'malnate': 1, 'belfort': 1, 'r\\xc3\\xbcsselsheim': 1, 'oberdorla': 1, 'b\\xc3\\xbchl': 1, 'capezzano pianore': 1, 'angera': 1, 'creazzo': 1, 'nus': 1, 'orta di atella': 1, 'motta visconti': 1, 'san mauro torinese': 1, 'mozzo': 1, 'bac\\xc4\\x83u': 1, 'san vincenzo': 1, 'tolentino': 1, 'paratico': 1, 'staranzano': 1, 'cortenova': 1, 'castione della presolana': 1, 'casagiove': 1, 'orvieto scalo': 1, 'fossoli': 1, 'caldonazzo': 1, 'fai della paganella': 1, 'costanza': 1, 'charleroi': 1, \"castell'arquato\": 1, 'terontola': 1, 'wiesbaden': 1, 'piani di artavaggio': 1, 'montb\\xc3\\xa9liard': 1, 'sorengo': 1, 'ossana': 1, 'dermulo': 1, 'aubervilliers': 1, 'sasso marconi': 1, 'rodengo-saiano': 1, 'cernusco sul naviglio': 1, 'appiano gentile': 1, 'stradella': 1, 'taino': 1, 'borgo san dalmazzo': 1, 'reggiolo': 1, 'masone': 1, 'sava': 1, \"torre de' roveri\": 1, 'adria': 1, 'reggio calabria': 1, 'valence': 1, 'san remo': 1, 'basilicanova': 1, 'walldorf': 1, 'h\\xc3\\xb6chst\\xc3\\xa4dt an der donau': 1, 'basaluzzo': 1, 'k\\xc3\\xb6sching': 1, 'pr\\xc3\\xa9-saint-didier': 1, 'cosenza': 1, 'd\\xc3\\xbcbendorf': 1, 'argegno': 1, 'opfikon': 1, 'specchia': 1, 'tremblay-en-france': 1, 'm\\xc3\\xa2con': 1, 'fiume': 1, 'ugento': 1, 'loreto': 1, 'nove': 1, 'giovinazzo': 1, 'cerignola': 1, 'folgaria': 1, 'tremenico': 1, 'valttelina': 1, 'ranica': 1, 'praga': 1, 'zara': 1, 'gessate m2': 1, 'montepulciano': 1, 'leccio': 1, 'vernate': 1, 'francavilla al mare': 1, 'san pancrazio salentino': 1, 'cascina malpensa': 1, 'mede': 1, 'godiasco salice terme': 1, 'san vigilio': 1, 'oderzo': 1, 'pineto': 1, 'bornheim': 1, 'thonon-les-bains': 1, 'reano': 1, 'zero branco': 1, 'amburgo': 1, 'grumello del monte': 1, 'angolo terme': 1, 'balocco': 1, 'timi\\xc8\\x99oara': 1, 'dobbiaco': 1, 'carignano': 1, 'landquart': 1, 'campomarino lido': 1, 'narni': 1, 'castelfranco di sotto': 1, 'matten bei interlaken': 1, 'farigliano': 1, 'pisticci': 1, 'carpenedolo': 1, 'cologna veneta': 1, 'savignano sul rubicone': 1, 'casciago': 1, 'cavriana': 1, 'rorschach': 1, 'fivizzano': 1, 'gi\\xc3\\xa8res': 1, 'saint-christophe': 1, 'trani': 1, \"sant'elpidio a mare\": 1, 'carouge': 1, '\\xc3\\x89trembi\\xc3\\xa8res': 1, 'antey-saint-andr\\xc3\\xa8': 1, \"val-d'is\\xc3\\xa8re\": 1, 'valmeinier': 1, 'benna': 1, 'ia\\xc8\\x99i': 1, 'avio': 1, 'roreto': 1, 'mezzogoro': 1, 'cardano al campo': 1, 'opera': 1, 'san sebastiano al vesuvio': 1, 'borghetto lodigiano': 1, 'cavaillon': 1, 'stoccolma': 1, 'toscanella': 1, 'romana': 1, 'lumarzo': 1, 'marino': 1, 'lurago marinone': 1, 'salice terme': 1, 'mortara': 1, 'barasso': 1, 'pagnacco': 1, 'forcola': 1, 'chiugiana-la commenda': 1, 'zola predosa': 1, 'antella': 1, 'venosa': 1, 'giardino della galla': 1, 'castenedolo': 1, 'collodi': 1, 'tarragona': 1, 'olten': 1, 'sargans': 1, 'neviano': 1, 'carbonera': 1, 'andora': 1, 'cascina braghe-traversa': 1, 'potenza': 1, 'toscolano maderno': 1, 'locate varesino': 1, 'passignano sul trasimeno': 1, 'longarone': 1, 'bioggio': 1, 'bucarest': 1, 'aprica': 1, 'brno': 1, 'busseto': 1, 'annecy-le-vieux': 1, 'gmunden': 1, 'campobasso': 1, 'casalmaiocco': 1, 'val della torre': 1, 'origgio': 1, 'eastbourne': 1, 'vidracco': 1, 'briga': 1, 'san fedele intelvi': 1, 'castione': 1, 'san gemini': 1, 'preseglie': 1, 'mottella': 1, 'mestriago': 1, 'camucia': 1, 'segni': 1, 'cortemaggiore': 1, 'cermenate': 1, 'crans-montana': 1, 'wangen im allg\\xc3\\xa4u': 1, 'orvieto': 1, 'm\\xc3\\xa2cot-la-plagne': 1, 'ponte nelle alpi': 1, 'cortemilia': 1, 'montalbano': 1, 'brugg': 1, \"castel d'azzano\": 1, 'cortona': 1, 'trissino': 1, 'loria': 1, 'satriano di lucania': 1, 'bellinzago lombardo': 1, 'san martino in rio': 1, '\\xc3\\x89palinges': 1, 'susa': 1, 'cesano maderno': 1, 'pfullendorf': 1, 'longiano': 1, 'prato sesia': 1, 'castel san pietro': 1, 'vicoforte': 1, 'bregaglia': 1, 'bra\\xc8\\x99ov': 1, 'molinetto': 1, 'montjovet': 1, 'fiume veneto': 1, 'nuova ulma': 1, 'citt\\xc3\\xa0 di san marino': 1, 'borgoricco': 1, 'san fior di sopra': 1, 'saint-pierre-de-belleville': 1, 'pila': 1, 'sciaffusa': 1, 'cesana torinese': 1, 'verezzi': 1, 'carpeneda': 1, 'postal': 1, 'sandrigo': 1, 'moggio': 1, 'castelli calepio': 1, 'crevalcore': 1, 'dolo': 1, 'dole': 1, 'savigno': 1, 'divonne-les-bains': 1, 'altdorf': 1, 'sermide': 1, 'clusone': 1, 'ch\\xc3\\xa2tillon': 1, 'sassetta': 1, 'capodistria': 1, 'saint-andr\\xc3\\xa9-lez-lille': 1, 'essen': 1, 'brembate di sopra': 1, 'russi': 1, 'brian\\xc3\\xa7on': 1, 'cefal\\xc3\\xb9': 1, 'montecampione': 1, 'cormano': 1, 'ghiffa': 1, 'garbagnate milanese': 1, 'monopoli': 1, 'montebello vicentino': 1, 'brivio': 1, 'esine': 1, 'la roche-sur-foron': 1, 'darfo boario terme': 1, 'ciri\\xc3\\xa8': 1, 'borgo san lorenzo': 1, 'al ponte': 1, 'battaglione-bagnara': 1, 'san pellegrino terme': 1, 'cervo': 1, 'correggio': 1, 'siracusa': 1, 'avellino': 1, 'chiaravalle': 1, 'ladispoli': 1, 'lazise': 1, 'venegono superiore': 1, 'worms': 1, 'dronero': 1, 'cusano milanino': 1, 'bollwiller': 1, 'ceparana': 1, 'uscita firenze impruneta': 1, 'ospedale': 1, 'besana in brianza': 1, 'pala de andr\\xc3\\xa8': 1, 'saldina': 1, 'ponte caffaro': 1, \"fiorenzuola d'arda\": 1, 'vecchiano': 1, 'martigny-combe': 1, \"sauze d'oulx\": 1, 'cellatica': 1, 'corigliano calabro': 1, 'les pennes-mirabeau': 1, 'sillian': 1, 'schlins': 1, 'ponte nossa': 1, 'barberino di mugello': 1, 'friedrichshafen': 1, 'faloppio': 1, 'scorrano': 1, \"campolungo-villa sant'antonio\": 1, 'birstein': 1, 'prato nevoso': 1, 'pompei': 1, 'piadena': 1, 'buia': 1, 'chiusi della verna': 1, 'banchette': 1, 'limone piemonte': 1, 'aoste': 1, 'barcelonnette': 1, 'concordia sagittaria': 1, 'san giovanni in persiceto': 1, 'castelfranco emilia': 1, 'reggello': 1, 'eindhoven': 1, 'cologno monzese': 1, 'borgo piave': 1, 'livinallongo del col di lana': 1, 'la celle-sous-gouzon': 1, 'montebello della battaglia': 1, 'spinetta marengo': 1, 'pozzuoli': 1, 'telgate': 1, 'rutigliano': 1, 'viserba': 1, 'novate mezzola': 1, 'poggio mirteto': 1, 'germignaga': 1, 'vicenza ovest': 1, 'san martino di castrozza': 1, 'artigianale-commerciale': 1, 'bourges': 1, 'borgo': 1, 'orio center': 1, 'ameglia': 1, 'marsciano': 1, 'mapello': 1, 'montecchio maggiore': 1, 'gatteo': 1, 'besozzo': 1, 'san dalmazio': 1, 'san carlo': 1, 'weinheim': 1, 'soliera': 1, 'sankt margrethen': 1, 'colzate': 1, 'dietikon': 1, 'beregazzo': 1, 'cottbus': 1, 'galzignano terme': 1, 'bobbio': 1, 'lancenigo': 1, 'chatillon': 1, 'villasanta': 1, 'gattinara': 1, 'serravalle': 1, 'saint-jean-de-maurienne': 1, 'vedelago': 1, 'montelupone': 1, 'badia polesine': 1, 'nocera inferiore': 1, 'prilly': 1, 'rocchetta di vara': 1, 'saanen': 1, 'gromo': 1, 'danta': 1, 'guidonia': 1, 'pallanzeno': 1, 'limone sul garda': 1, 'scalo ferroviario': 1, 'nizza monferrato': 1, 'moena': 1, 'san gillio': 1, 'breda di piave': 1, 'girona': 1, 'porpetto': 1, 'vicchio': 1, 'barbellotta': 1, 'roncade': 1, 'andermatt': 1, 'lavis': 1, 'santa magdalena': 1, \"citt\\xc3\\xa0 sant'angelo\": 1, 'casa del diavolo': 1, 'nereto': 1, 'baraccone': 1, 'giffoni valle piana': 1, 'pove del grappa': 1, 'campione': 1, 'roquebrune-cap-martin': 1, 'san giusto canavese': 1, 'maida': 1, 'bagnacavallo': 1, 'gazzada schianno': 1, 'vigliano biellese': 1, 'monte san savino': 1, 'crescentino': 1, 'nantes': 1, 'torrette': 1, 'sulzano': 1, 'area produttiva mosciano': 1, 'borso del grappa': 1, 'gressan': 1, 'caraglio': 1, 'albino': 1, 'tavagnacco': 1, 'passo del tonale': 1, 'treviolo': 1, 'olevano di lomellina': 1, 'inverigo': 1, 'chemnitz': 1, 'meda': 1, 'roth': 1, 'lamia': 1, 'lonato': 1, 'sondalo': 1, 'nyon': 1, 'lumiere': 1, 'bs': 1, 'bagni di lucca': 1, 'pietra': 1, 'borgo san giacomo': 1, 'vezia': 1, 'vigo di fassa': 1, 'orcenico superiore': 1, 'v\\xc3\\xa9troz': 1, 'zoagli': 1, 'm\\xc3\\xbchlhausen/th\\xc3\\xbcringen': 1, 'soncino': 1, 'pedrengo': 1, 'liegi': 1, 'varzo': 1, 'osteria grande': 1, 'occhieppo inferiore': 1, 'castagneto carducci': 1, 'erlangen': 1, 'carpino': 1, 'entratico': 1, 'pontoglio': 1, 'truccazzano': 1, 'policastro bussentino': 1, 'san giovanni rotondo': 1, 'albairate': 1, 'ariccia': 1, 'guastalla': 1, 'villa carcina': 1, 'castel del piano': 1, 'traunstein': 1, 'neuilly-sur-marne': 1, 's\\xc3\\xa9lestat': 1, 'san sebasti\\xc3\\xa1n': 1, 'leno': 1, 'vallorcine': 1, 'lana': 1, 'cascina': 1, 'hella': 1, 'candiolo': 1, 'maastricht': 1, 'masseria fortino': 1, 'lilla': 1, 'sallanches': 1, \"villa d'agri\": 1, 'marina di ravenna': 1, 'colmar': 1, 'san martino in campo': 1, 'bregnano': 1, 'rivera': 1, 'pristina': 1, 'canale': 1, 'spilimbergo': 1, 'mortegliano': 1, 'vaduz': 1, 'claviere': 1, 'manno': 1, 'bassone': 1, 'poggio rusco': 1, 'albacina-borgo tufico': 1, 'grange di nole': 1, \"reggio nell'emilia\": 1, 'bogliasco': 1, 'sori': 1, 'bolzano vicentino': 1, 'massa finalese': 1, 'svitto': 1, 'gallo': 1, 'reisenschuh': 1, 'locri': 1, 'corciano': 1, 'salisburgo': 1, 'pian rosso-costa': 1, 'empoli': 1, 'vasanello': 1, 'milano marittima': 1, 'sassello': 1, 'li': 1, 'gorlago': 1, 'p\\xc3\\xa9rissac': 1, 'san lorenzo di parabiago': 1, \"pre' saint didier\": 1, 'candela': 1, 'lonigo': 1, 'lungomare': 1, 'pomarance': 1, 'passirano': 1, 'woluwe-saint-lambert': 1, '\\xc3\\x85rhus': 1, 'prignano sulla secchia': 1, 'cagno': 1, 'gabicce mare': 1, 'volvera': 1, 'castelfiorentino': 1, 'san martino del lago': 1, 'gavirate': 1, 'galatina': 1, 'ferrazze': 1, 'tormeno': 1, 'villarbasse': 1, 'cracovia': 1, 'giubiasco': 1, 'cervarese santa croce': 1, 'gaggio montano': 1, 'serina': 1, 'massa lombarda': 1, 'carisio': 1, 'molinella': 1, 'kaiserslautern': 1, 'bordeaux': 1, 'vidiciatico': 1, 'offenbach am main': 1, 'biandrate': 1, \"sant'egidio alla vibrata\": 1, 'castiglion fiorentino': 1, 'emmen': 1, 'castelnuovo magra': 1, 'biasca': 1, 'massa marittima': 1, 'graz': 1, 'altopascio': 1, 'manfredonia': 1, 'beaulieu': 1, 'dumbr\\xc4\\x83ve\\xc8\\x99ti': 1, 'rivabella': 1, \"palazzolo sull'oglio\": 1, 'montelera': 1, 'breil/brigels': 1, 'bibione': 1, 'meg\\xc3\\xa8ve': 1, 'renazzo': 1, 'samnaun': 1, 'castelletto uzzone': 1, 'belvedere': 1, 'conselve': 1, 'baggiovara': 1, 'carpaneto piacentino': 1, 'sala baganza': 1, 'fondi': 1, 'brignoles': 1, \"vo'\": 1, 'leffe': 1, 'casalmaggiore': 1, 'palaiseau': 1, 'pescara del tronto': 1, 'altavilla vicentina': 1, 'buttigliera alta': 1, 'firenze sud viale europa': 1, 'utrecht': 1, 'spello': 1, 'avignone': 1, 'benken': 1, 'casello ferrara nord': 1, 'farra di soligo': 1, 'tarzo': 1, 'saint-chamond': 1, 'morges': 1, 'madonna della provvidenza': 1, 'grisignano di zocco': 1, 'gaillard': 1, 'malgrate': 1, 'almenno san salvatore': 1, 'rapperswil-jona': 1, 'vieste': 1, 'sulmona': 1, 'roncadelle': 1, 'san mariano': 1, 'targnod': 1, 'craiova': 1, 'altamura': 1, 'pradamano': 1, 'caorso': 1, 'b\\xc3\\xa9ziers': 1, 'bludenz': 1, 'autostrada': 1, 'saluggia': 1, 'san giuseppe vesuviano': 1, 'fiano romano': 1, \"morro d'oro\": 1, 'metz': 1, 'h\\xc3\\xbcnfeld': 1, 'davos': 1, 'castelvetro di modena': 1, 'san quirino': 1, 'san giorgio canavese': 1, 'istrana': 1, 'ecublens': 1, 'arcola': 1, 'cogolin': 1, 'gorgonzola': 1, 'querceta': 1, 'trinit\\xc3\\xa0': 1, 'catanzaro': 1, 'goito': 1, 'casciana terme': 1, \"castelnovo ne' monti\": 1, 'arenys de mar': 1})\n"
     ]
    }
   ],
   "source": [
    "print tripday"
   ]
  },
  {
   "cell_type": "code",
   "execution_count": 80,
   "metadata": {
    "collapsed": true
   },
   "outputs": [],
   "source": [
    "# importa dati su provincia di appartenenza\n",
    "\n",
    "comuni_prov = pd.read_excel('./Data/elenco-comuni-italiani.xls', index_col = 0, parse_cols = 'E,F,J,K,L')"
   ]
  },
  {
   "cell_type": "code",
   "execution_count": 81,
   "metadata": {
    "collapsed": false
   },
   "outputs": [
    {
     "data": {
      "text/html": [
       "<div>\n",
       "<table border=\"1\" class=\"dataframe\">\n",
       "  <thead>\n",
       "    <tr style=\"text-align: right;\">\n",
       "      <th></th>\n",
       "      <th>Denominazione in italiano</th>\n",
       "      <th>Denominazione regione</th>\n",
       "      <th>Denominazione Città metropolitana</th>\n",
       "      <th>Denominazione provincia</th>\n",
       "    </tr>\n",
       "    <tr>\n",
       "      <th>Codice Comune formato alfanumerico</th>\n",
       "      <th></th>\n",
       "      <th></th>\n",
       "      <th></th>\n",
       "      <th></th>\n",
       "    </tr>\n",
       "  </thead>\n",
       "  <tbody>\n",
       "    <tr>\n",
       "      <th>1001</th>\n",
       "      <td>Agliè</td>\n",
       "      <td>Piemonte</td>\n",
       "      <td>Torino</td>\n",
       "      <td>-</td>\n",
       "    </tr>\n",
       "    <tr>\n",
       "      <th>1002</th>\n",
       "      <td>Airasca</td>\n",
       "      <td>Piemonte</td>\n",
       "      <td>Torino</td>\n",
       "      <td>-</td>\n",
       "    </tr>\n",
       "    <tr>\n",
       "      <th>1003</th>\n",
       "      <td>Ala di Stura</td>\n",
       "      <td>Piemonte</td>\n",
       "      <td>Torino</td>\n",
       "      <td>-</td>\n",
       "    </tr>\n",
       "    <tr>\n",
       "      <th>1004</th>\n",
       "      <td>Albiano d'Ivrea</td>\n",
       "      <td>Piemonte</td>\n",
       "      <td>Torino</td>\n",
       "      <td>-</td>\n",
       "    </tr>\n",
       "    <tr>\n",
       "      <th>1005</th>\n",
       "      <td>Alice Superiore</td>\n",
       "      <td>Piemonte</td>\n",
       "      <td>Torino</td>\n",
       "      <td>-</td>\n",
       "    </tr>\n",
       "  </tbody>\n",
       "</table>\n",
       "</div>"
      ],
      "text/plain": [
       "                                   Denominazione in italiano  \\\n",
       "Codice Comune formato alfanumerico                             \n",
       "1001                                                   Agliè   \n",
       "1002                                                 Airasca   \n",
       "1003                                            Ala di Stura   \n",
       "1004                                         Albiano d'Ivrea   \n",
       "1005                                         Alice Superiore   \n",
       "\n",
       "                                   Denominazione regione  \\\n",
       "Codice Comune formato alfanumerico                         \n",
       "1001                                            Piemonte   \n",
       "1002                                            Piemonte   \n",
       "1003                                            Piemonte   \n",
       "1004                                            Piemonte   \n",
       "1005                                            Piemonte   \n",
       "\n",
       "                                   Denominazione Città metropolitana  \\\n",
       "Codice Comune formato alfanumerico                                     \n",
       "1001                                                          Torino   \n",
       "1002                                                          Torino   \n",
       "1003                                                          Torino   \n",
       "1004                                                          Torino   \n",
       "1005                                                          Torino   \n",
       "\n",
       "                                   Denominazione provincia  \n",
       "Codice Comune formato alfanumerico                          \n",
       "1001                                                     -  \n",
       "1002                                                     -  \n",
       "1003                                                     -  \n",
       "1004                                                     -  \n",
       "1005                                                     -  "
      ]
     },
     "execution_count": 81,
     "metadata": {},
     "output_type": "execute_result"
    }
   ],
   "source": [
    "comuni_prov.head()"
   ]
  },
  {
   "cell_type": "code",
   "execution_count": 83,
   "metadata": {
    "collapsed": false
   },
   "outputs": [
    {
     "name": "stdout",
     "output_type": "stream",
     "text": [
      "['comune' 'regione' 'metro' 'provincia']\n"
     ]
    }
   ],
   "source": [
    "comuni_prov.columns = ['comune','regione', 'metro', 'provincia']\n",
    "\n",
    "print comuni_prov.columns.values"
   ]
  },
  {
   "cell_type": "code",
   "execution_count": 84,
   "metadata": {
    "collapsed": false
   },
   "outputs": [],
   "source": [
    "comuni_prov.loc[comuni_prov.provincia == '-', 'provincia'] = comuni_prov.metro"
   ]
  },
  {
   "cell_type": "code",
   "execution_count": 85,
   "metadata": {
    "collapsed": false
   },
   "outputs": [
    {
     "data": {
      "text/html": [
       "<div>\n",
       "<table border=\"1\" class=\"dataframe\">\n",
       "  <thead>\n",
       "    <tr style=\"text-align: right;\">\n",
       "      <th></th>\n",
       "      <th>comune</th>\n",
       "      <th>regione</th>\n",
       "      <th>metro</th>\n",
       "      <th>provincia</th>\n",
       "    </tr>\n",
       "    <tr>\n",
       "      <th>Codice Comune formato alfanumerico</th>\n",
       "      <th></th>\n",
       "      <th></th>\n",
       "      <th></th>\n",
       "      <th></th>\n",
       "    </tr>\n",
       "  </thead>\n",
       "  <tbody>\n",
       "    <tr>\n",
       "      <th>1001</th>\n",
       "      <td>Agliè</td>\n",
       "      <td>Piemonte</td>\n",
       "      <td>Torino</td>\n",
       "      <td>Torino</td>\n",
       "    </tr>\n",
       "    <tr>\n",
       "      <th>1002</th>\n",
       "      <td>Airasca</td>\n",
       "      <td>Piemonte</td>\n",
       "      <td>Torino</td>\n",
       "      <td>Torino</td>\n",
       "    </tr>\n",
       "    <tr>\n",
       "      <th>1003</th>\n",
       "      <td>Ala di Stura</td>\n",
       "      <td>Piemonte</td>\n",
       "      <td>Torino</td>\n",
       "      <td>Torino</td>\n",
       "    </tr>\n",
       "    <tr>\n",
       "      <th>1004</th>\n",
       "      <td>Albiano d'Ivrea</td>\n",
       "      <td>Piemonte</td>\n",
       "      <td>Torino</td>\n",
       "      <td>Torino</td>\n",
       "    </tr>\n",
       "    <tr>\n",
       "      <th>1005</th>\n",
       "      <td>Alice Superiore</td>\n",
       "      <td>Piemonte</td>\n",
       "      <td>Torino</td>\n",
       "      <td>Torino</td>\n",
       "    </tr>\n",
       "  </tbody>\n",
       "</table>\n",
       "</div>"
      ],
      "text/plain": [
       "                                             comune   regione   metro  \\\n",
       "Codice Comune formato alfanumerico                                      \n",
       "1001                                          Agliè  Piemonte  Torino   \n",
       "1002                                        Airasca  Piemonte  Torino   \n",
       "1003                                   Ala di Stura  Piemonte  Torino   \n",
       "1004                                Albiano d'Ivrea  Piemonte  Torino   \n",
       "1005                                Alice Superiore  Piemonte  Torino   \n",
       "\n",
       "                                   provincia  \n",
       "Codice Comune formato alfanumerico            \n",
       "1001                                  Torino  \n",
       "1002                                  Torino  \n",
       "1003                                  Torino  \n",
       "1004                                  Torino  \n",
       "1005                                  Torino  "
      ]
     },
     "execution_count": 85,
     "metadata": {},
     "output_type": "execute_result"
    }
   ],
   "source": [
    "comuni_prov.head()"
   ]
  },
  {
   "cell_type": "code",
   "execution_count": 86,
   "metadata": {
    "collapsed": true
   },
   "outputs": [],
   "source": [
    "comuni_prov.drop('metro', axis=1, inplace=True)"
   ]
  },
  {
   "cell_type": "code",
   "execution_count": 87,
   "metadata": {
    "collapsed": true
   },
   "outputs": [],
   "source": [
    "daily_trips['provincia'] = 'Undefined'\n",
    "daily_trips['regione'] = 'Undefined'"
   ]
  },
  {
   "cell_type": "code",
   "execution_count": 88,
   "metadata": {
    "collapsed": true
   },
   "outputs": [],
   "source": [
    "for ind, row in comuni_prov.iterrows():\n",
    "    comuni_prov.set_value(ind, 'comune', comuni_prov.get_value(ind, 'comune').lower()) "
   ]
  },
  {
   "cell_type": "code",
   "execution_count": 89,
   "metadata": {
    "collapsed": false
   },
   "outputs": [
    {
     "name": "stderr",
     "output_type": "stream",
     "text": [
      "/opt/conda/lib/python2.7/site-packages/pandas/core/ops.py:739: UnicodeWarning: Unicode equal comparison failed to convert both arguments to Unicode - interpreting them as being unequal\n",
      "  result = lib.scalar_compare(x, y, op)\n"
     ]
    }
   ],
   "source": [
    "notfound = set()\n",
    "\n",
    "for ind, line in daily_trips.iterrows():\n",
    "    comune = line.name[1]\n",
    "    if len(comuni_prov.loc[comuni_prov['comune'] == comune]) == 1:\n",
    "        prov = comuni_prov.loc[comuni_prov['comune'] == comune, 'provincia'].values[0]\n",
    "        reg = comuni_prov.loc[comuni_prov['comune'] == comune, 'regione'].values[0]\n",
    "        daily_trips.set_value(ind, 'provincia', prov)\n",
    "        daily_trips.set_value(ind, 'regione', reg)\n",
    "    else:\n",
    "        notfound.add(comune)"
   ]
  },
  {
   "cell_type": "code",
   "execution_count": null,
   "metadata": {
    "collapsed": true
   },
   "outputs": [],
   "source": [
    "daily_trips.head()"
   ]
  },
  {
   "cell_type": "code",
   "execution_count": 91,
   "metadata": {
    "collapsed": true
   },
   "outputs": [
    {
     "name": "stdout",
     "output_type": "stream",
     "text": [
      "['aarau', 'aereoporto \"v.catullo\"', 'aix-en-provence', 'al ponte', 'albacina-borgo tufico', 'altdorf', 'amburgo', 'amsterdam', 'andermatt', 'annecy', 'annecy-le-vieux', 'annemasse', 'antella', 'antey-saint-andr\\xc3\\xa8', 'antey-saint-andr\\xc3\\xa9', 'antibes', 'aoste', 'arbon', 'area produttiva mosciano', 'arenys de mar', 'arma di taggia', 'artigianale-commerciale', 'aspio terme', 'aubervilliers', 'aurora', 'autostrada', 'auxerre', 'avignone', 'baar', 'bac\\xc4\\x83u', 'bad ragaz', 'baden', 'baden-baden', 'baggiovara', 'baraccone', 'barbellotta', 'barcellona', 'barcelonnette', 'basilea', 'basilicanova', 'bassone', 'battaglione-bagnara', 'beaulieu', 'belfort', 'bellaria', 'bellinzona', 'belvedere', 'benken', 'beregazzo', 'berlino', 'berna', 'besan\\xc3\\xa7on', 'bettola-zeloforamagno', 'bettolle', 'biasca', 'bibione', 'bienna', 'bioggio', 'birstein', 'bludenz', 'boario terme', 'bocca di magra', 'bollwiller', 'bonn', 'bordeaux', 'borgio', 'borgo', 'borgo piave', 'bornheim', 'bor\\xc8\\x99a', 'bottai', 'bourges', 'bra\\xc8\\x99ov', 'bre', 'bregaglia', 'breil/brigels', 'brema', 'breuil-cervinia', 'brian\\xc3\\xa7on', 'briga', 'brignole', 'brignoles', 'brno', 'brugg', 'bruxelles', 'bs', 'bucarest', 'budapest', 'buia', 'b\\xc3\\xa9ziers', 'b\\xc3\\xbchl', 'caianello vecchio', 'calais', 'campione', \"campolungo-villa sant'antonio\", 'campomarino lido', 'camucia', 'cannes', 'canterbury', 'cant\\xc3\\xb9', 'capezzano pianore', 'capodistria', 'carouge', 'carpeneda', 'casa del diavolo', 'casciana terme', 'cascina braghe-traversa', 'cascina malpensa', 'caselle', 'casello ferrara nord', 'castel san pietro', 'castione', 'cavaillon', 'cefal\\xc3\\xb9', 'centro fiera', 'ceparana', 'cesuna', 'chamb\\xc3\\xa9ry', 'chamonix-mont-blanc', 'champoluc', 'charleroi', 'chateau', 'chatillon', 'chef-lieu', 'chemnitz', 'chiasso', 'chiugiana-la commenda', 'ch\\xc3\\xa2tillon', 'ciri\\xc3\\xa8', 'citt\\xc3\\xa0 di castello', 'citt\\xc3\\xa0 di san marino', \"citt\\xc3\\xa0 sant'angelo\", 'clermont-ferrand', 'cogolin', 'coira', 'colico piano', 'colle sestriere', 'collestrada', 'collodi', 'colmar', 'costa di serina', 'costanza', 'cottbus', 'cracovia', 'crailsheim', 'craiova', 'crans-montana', 'danta', 'darfo', 'davos', 'dermulo', 'dietikon', 'digione', 'divonne-les-bains', 'dole', 'dr\\xc4\\x83g\\xc4\\x83\\xc8\\x99ani', 'dumbr\\xc4\\x83ve\\xc8\\x99ti', 'd\\xc3\\xbcbendorf', 'd\\xc3\\xbcsseldorf', 'eastbourne', 'ecublens', 'eindhoven', 'emmen', 'endine', 'entreves', 'erlangen', 'essen', 'farniole', 'feldkirch', 'ferrazze', 'ferrovia', 'figline valdarno', 'fiorano', 'firenze sud viale europa', 'fiume', 'fondotoce', 'fontainebleau', 'forl\\xc3\\xac', 'fornacette', 'fossoli', 'francoforte', 'frauenfeld', 'freienbach', 'friburgo in brisgovia', 'friedrichshafen', 'gaggiolo', 'gaillard', 'gala\\xc8\\x9bi', 'gallo', 'gambol\\xc3\\xb2', 'gessate m2', 'giardino della galla', 'ginevra', 'giovenzano', 'girona', 'giubiasco', 'gi\\xc3\\xa8res', 'gmunden', 'grancetta', 'grancia', 'grange di nole', 'gravedona', 'graz', 'grenchen', 'grenoble', 'gressoney-la-trinit\\xc3\\xa8', 'guidonia', 'heidelberg', 'hella', 'horw', 'hy\\xc3\\xa8res', 'h\\xc3\\xb6chst\\xc3\\xa4dt an der donau', 'h\\xc3\\xbcnfeld', 'ia\\xc8\\x99i', 'innsbruck', 'kaiserslautern', 'karlsruhe', 'k\\xc3\\xb6sching', 'k\\xc3\\xbcssnacht', 'la celle-sous-gouzon', 'la roche-sur-foron', 'laax', 'lachen', 'lamia', 'lancenigo', 'landquart', \"lanzo d'intelvi\", 'le grand-saconnex', 'leccio', 'leinfelden-echterdingen', 'les pennes-mirabeau', 'leukerbad', 'li', 'lido di camaiore', 'lido di ostia', 'liegi', 'lilla', 'linate', 'lindau', 'lione', 'lisanza', 'locarno', 'lonato', 'londra', 'losanna', 'lubiana', 'lucerna', 'lugano', 'lumiere', 'lungomare', 'lussemburgo', 'maastricht', 'madonna della provvidenza', 'madonna di campiglio', 'mal\\xc3\\xa8', 'mandelieu-la-napoule', 'mannheim', 'manno', 'maresso', 'marina', 'marina di carrara', 'marina di massa', 'marina di ravenna', 'marotta', 'marsiglia', 'martigny', 'martigny-combe', 'massa finalese', 'masseria fortino', 'matten bei interlaken', 'meg\\xc3\\xa8ve', 'melide', 'memmingen', 'mendrisio', 'mentone', 'mestriago', 'metz', 'meyrin', 'mezzogoro', 'milano marittima', 'modane', 'molinetto', 'monaco di baviera', 'monaco-ville', 'mondov\\xc3\\xac', 'montalbano', 'montano', 'montb\\xc3\\xa9liard', 'montecampione', 'montecatini terme', 'montecchio maggiore-alte ceccato', 'montelera', 'montpellier', 'montreux', 'morges', 'moron', 'mossini', 'mottella', 'muggi\\xc3\\xb2', 'mulhouse', 'muralto', 'm\\xc3\\xa2con', 'm\\xc3\\xa2cot-la-plagne', 'm\\xc3\\xbchlhausen/th\\xc3\\xbcringen', 'm\\xc3\\xbcnchsm\\xc3\\xbcnster', 'nancy', 'nantes', 'neuch\\xc3\\xa2tel', 'neuilly-sur-marne', 'nizza', 'nommern', 'norimberga', 'novegro-tregarezzo', 'nuova ulma', 'nyon', 'oberdorla', 'offenbach am main', 'olten', 'opfikon', 'opicina', 'orcenico superiore', 'orio center', 'orvieto scalo', 'ospedale', 'osteria grande', 'outlet', 'pala de andr\\xc3\\xa8', 'palaiseau', 'paradiso', 'parigi', 'passo del tonale', 'pescara del tronto', 'pfullendorf', 'pian rosso-costa', 'piani di artavaggio', 'pietra', 'plan-les-ouates', 'policastro bussentino', 'pontasserchio', 'ponte caffaro', 'ponte felcino', 'ponte san giovanni', 'ponte taro', 'ponte tresa', 'porretta terme', 'porto potenza picena', 'praga', 'prato nevoso', \"pre' saint didier\", 'prilly', 'pristina', 'producena-teola', 'pr\\xc3\\xa9-saint-didier', 'p\\xc3\\xa9rissac', 'querceta', 'quercianella', 'rapperswil-jona', 'ravensburg', 'reggio calabria', 'reggio emilia', 'reisenschuh', 'renazzo', 'reutlingen', 'rivabella', 'rivera', 'rodengo-saiano', 'rolle', 'ronchi', 'roncone', 'roquebrune-cap-martin', 'roreto', 'rorschach', 'roth', 'rotterdam', 'r\\xc3\\xbcsselsheim', 'saanen', 'sachseln', 'saint-andr\\xc3\\xa9-lez-lille', 'saint-bon-tarentaise', 'saint-chamond', 'saint-gilles', 'saint-jean-de-maurienne', 'saint-laurent-du-var', 'saint-louis', 'saint-pierre-de-belleville', 'saldina', 'salice terme', 'salisburgo', 'sallanches', 'sal\\xc3\\xb2', 'samnaun', 'san carlo', 'san dalmazio', 'san don\\xc3\\xa0 di piave', 'san fior di sopra', 'san gallo', 'san lorenzo di parabiago', 'san mariano', 'san marino', 'san martino di castrozza', 'san martino in campo', 'san maurizio', 'san remo', 'san sebasti\\xc3\\xa1n', 'san venanzio', 'san vigilio', 'sankt margrethen', 'santa caterina', 'santa magdalena', 'santa maria degli angeli', 'santhi\\xc3\\xa0', 'santuario', 'sargans', 'savigno', 'scalo ferroviario', 'schlins', 'schorndorf', 'sciaffusa', 'sementina', 'sermide', 'serravalle', 'sesto ulteriano', 'sevelen', 'sillian', 'simplon', 'singen', 'sion', 'sistiana', 'smederevo', 'soraga', 'sorengo', 'spinetta marengo', 'stabio', 'stazione', 'stoccarda', 'stoccolma', 'strasburgo', 'svitto', 's\\xc3\\xa9lestat', 'tai di cadore', 'targnod', 'tarragona', 'tavernelle', 'terontola', 'tetti cambiano', 'thonon-les-bains', 'th\\xc3\\xb4nex', 'timi\\xc8\\x99oara', 'tolone', 'tormeno', 'torrette', 'toscanella', 'toscolano maderno', 'traunstein', 'tremblay-en-france', 'trinit\\xc3\\xa0', 'ulma', 'uscita firenze impruneta', 'utrecht', 'vaduz', \"val-d'is\\xc3\\xa8re\", 'valence', 'vallorcine', 'valmeinier', 'valttelina', 'venturina terme', 'verezzi', 'verr\\xc3\\xa8s', 'vevey', 'vezia', 'vicenza ovest', 'vidiciatico', 'vienna', \"villa d'agri\", 'villaco', 'villeneuve-loubet', 'viserba', 'vitoria-gasteiz', 'v\\xc3\\xa9troz', 'walferdange', 'walldorf', 'wangen im allg\\xc3\\xa4u', 'weinheim', 'wiesbaden', 'woluwe-saint-lambert', 'worms', 'w\\xc3\\xbcrzburg', 'zagabria', 'zara', 'zona artigianale funo', 'zona industriale', 'zona industriale bellocchi', 'zurigo', '\\xc3\\x85rhus', '\\xc3\\x89palinges', '\\xc3\\x89trembi\\xc3\\xa8res', '\\xc4\\x8cernivci']\n"
     ]
    }
   ],
   "source": [
    "print sorted(notfound)"
   ]
  },
  {
   "cell_type": "code",
   "execution_count": null,
   "metadata": {
    "collapsed": false
   },
   "outputs": [],
   "source": [
    "print len(daily_trips)"
   ]
  }
 ],
 "metadata": {
  "kernelspec": {
   "display_name": "Python 2",
   "language": "python",
   "name": "python2"
  },
  "language_info": {
   "codemirror_mode": {
    "name": "ipython",
    "version": 2
   },
   "file_extension": ".py",
   "mimetype": "text/x-python",
   "name": "python",
   "nbconvert_exporter": "python",
   "pygments_lexer": "ipython2",
   "version": "2.7.13"
  }
 },
 "nbformat": 4,
 "nbformat_minor": 2
}
