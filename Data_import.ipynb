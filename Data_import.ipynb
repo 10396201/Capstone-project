{
 "cells": [
  {
   "cell_type": "code",
   "execution_count": 93,
   "metadata": {
    "collapsed": false
   },
   "outputs": [
    {
     "name": "stdout",
     "output_type": "stream",
     "text": [
      "48\n"
     ]
    }
   ],
   "source": [
    "import httplib\n",
    "import json\n",
    "from datetime import datetime, date\n",
    "import pandas as pd\n",
    "import time\n",
    "\n",
    "cities = ['Genova','Torino','Bologna','Firenze','Ancona','Livorno','Roma','Pescara','Bari','Napoli','Taranto','Lecce', \n",
    "          'Cosenza', 'Reggio Calabria','Varese','Bergamo','Nizza','Marsiglia','Grenoble','Ginevra','Losanna','Zurigo','Venezia',\n",
    "         'Trento','Lugano','Brescia','Lione','Padova','Udine','Bolzano','Trieste','Reggio Emilia','Berna','Monaco di Baviera',\n",
    "          'Verona','Rimini', 'Ravenna','Terni','Salerno','Crotone','Savona','Cannes','Pisa','Como','Pesaro','Treviso','Fiume',\n",
    "         'Innsbruck']\n",
    "\n",
    "print(len(cities))"
   ]
  },
  {
   "cell_type": "code",
   "execution_count": 83,
   "metadata": {
    "collapsed": true
   },
   "outputs": [],
   "source": [
    "conn = httplib.HTTPSConnection(\"public-api.blablacar.com\")\n",
    "\n",
    "headers = {\n",
    "        'accept': \"application/json\",\n",
    "        'key': \"e359fe6292be4078ba1dcc963577813f\"\n",
    "    }\n",
    "\n",
    "stringa = '/api/v2/trips?fn=Milano&tn=Ancona&locale=it_IT&_format=json&db=2016-12-31&de=2016-12-31&page=1&limit=100&radius=5'\n",
    "\n",
    "trips = conn.request(\"GET\",stringa, headers=headers)\n",
    "\n",
    "res = conn.getresponse()\n",
    "data = res.read().decode(\"utf-8\")"
   ]
  },
  {
   "cell_type": "code",
   "execution_count": 84,
   "metadata": {
    "collapsed": false
   },
   "outputs": [
    {
     "data": {
      "text/plain": [
       "1"
      ]
     },
     "execution_count": 84,
     "metadata": {},
     "output_type": "execute_result"
    }
   ],
   "source": [
    "prova = json.loads(data)\n",
    "\n",
    "prova['pager']['pages']"
   ]
  },
  {
   "cell_type": "code",
   "execution_count": 86,
   "metadata": {
    "collapsed": false
   },
   "outputs": [
    {
     "name": "stdout",
     "output_type": "stream",
     "text": [
      "/api/v2/trips?fn=Milano&tn=Ancona&locale=it_IT&_format=json&db=2016-12-31&de=2016-12-31&page=1&limit=100&radius=5\n"
     ]
    }
   ],
   "source": [
    "s1 = \"/api/v2/trips?fn=Milano&tn=\" # destination\n",
    "s2 = \"&locale=it_IT&_format=json&db=\" # date begin\n",
    "s3 = \"&de=\" # date end\n",
    "s4 = \"&page=\" # page num\n",
    "s5 = \"&limit=100&radius=5\"    \n",
    "date_query = '2016-12-31'\n",
    "c = 'Ancona'\n",
    "\n",
    "request_url = s1 + c + s2 + date_query + s3 + date_query + s4 + str(1) + s5\n",
    "print request_url\n",
    "trips = conn.request(\"GET\",request_url, headers=headers)\n",
    "\n",
    "res = conn.getresponse()\n",
    "data = res.read().decode(\"utf-8\")\n",
    "\n",
    "prova = json.loads(data)\n"
   ]
  },
  {
   "cell_type": "code",
   "execution_count": 113,
   "metadata": {
    "collapsed": true
   },
   "outputs": [],
   "source": [
    "def extract_data(trip):\n",
    "    depdate = datetime.strptime(trip['departure_date'], \"%d/%m/%Y %H:%M:%S\")\n",
    "    depplace = trip['departure_place']\n",
    "    arrplace = trip['arrival_place']\n",
    "    \n",
    "    link = trip['links']['_front']    # link to the page of the trip (available only for trips \"in the future\")\n",
    "    \n",
    "    dep_day = depdate.date()       # date of the trip\n",
    "    dep_time = depdate.time()      # hour of departure\n",
    "    dep_city = depplace['city_name']  # city of dep\n",
    "    dep_lat = depplace['latitude']    # latitude of dep place\n",
    "    dep_long = depplace['longitude']  # longitude of dep place\n",
    "    dep_addr = depplace['address']    # address of dep place\n",
    "    arr_city = arrplace['city_name']  \n",
    "    arr_lat = arrplace['latitude']\n",
    "    arr_long = arrplace['longitude']\n",
    "    arr_addr = arrplace['address']\n",
    "    distance = int(trip['distance']['value'])\n",
    "    price = trip['price_with_commission']['value'] # price with commission\n",
    "    seatsleft = trip['seats_left']                 # seats left \n",
    "    seats = trip['seats']                          # seats made available by the driver\n",
    "    trip_id = trip['permanent_id']                 # trip id\n",
    "    stops = trip['locations_to_display']           # locations in which the driver will stop\n",
    "    bookmode = trip['booking_mode']                # could be MANUAL if the driver has to accept your request, AUTO otherwise\n",
    "    booktype = trip['booking_type']               # payment method: ONLINE, ON BOARD\n",
    "    \n",
    "    return (link, dep_day, dep_time, dep_city, dep_lat, dep_long, dep_addr, arr_city, arr_lat, arr_long, arr_addr, distance, price, \n",
    "         seatsleft, seats, trip_id, stops, bookmode, booktype)"
   ]
  },
  {
   "cell_type": "code",
   "execution_count": 112,
   "metadata": {
    "collapsed": true
   },
   "outputs": [],
   "source": [
    "def tuplelist_to_df(L):\n",
    "    labels = ['link', 'dep_day', 'dep_time', 'dep_city', 'dep_lat', 'dep_long', 'dep_addr', 'arr_city', 'arr_lat', 'arr_long', \n",
    "              'arr_addr', 'distance','price', 'seatsleft', 'seats', 'trip_id', 'stops', 'bookmode', 'booktype']\n",
    "    df = pd.DataFrame.from_records(L, columns = labels)\n",
    "    return df"
   ]
  },
  {
   "cell_type": "code",
   "execution_count": 118,
   "metadata": {
    "collapsed": true
   },
   "outputs": [],
   "source": [
    "def dict_to_df(d):\n",
    "    return pd.DataFrame(d.values(), index=pd.MultiIndex.from_tuples(d.keys())).unstack(1)"
   ]
  },
  {
   "cell_type": "code",
   "execution_count": 123,
   "metadata": {
    "collapsed": true
   },
   "outputs": [],
   "source": [
    "def get_data(year,month,day_begin,day_end, cities):\n",
    "    conn = httplib.HTTPSConnection(\"public-api.blablacar.com\")\n",
    "    \n",
    "    headers = {\n",
    "        'accept': \"application/json\",\n",
    "        'key': \"e359fe6292be4078ba1dcc963577813f\"\n",
    "    }\n",
    "    \n",
    "    count = 0\n",
    "    \n",
    "    yearmonth = str(year)+'-'+str(month).zfill(2)+'-'\n",
    "    \n",
    "    my_data = []\n",
    "    d_full = {}\n",
    "    \n",
    "    s1 = \"/api/v2/trips?fn=Milano&tn=\" # destination\n",
    "    s2 = \"&locale=it_IT&_format=json&db=\" # date begin\n",
    "    s3 = \"&de=\" # date end\n",
    "    s4 = \"&page=\" # page num\n",
    "    s5 = \"&limit=100&radius=5\"    \n",
    "    for day in xrange(day_begin, day_end+1):\n",
    "        date_query = yearmonth + str(day).zfill(2)\n",
    "        print date_query\n",
    "        for c in cities:\n",
    "            count += 1\n",
    "            #print c, count\n",
    "            request_url = s1 + c + s2 + date_query + s3 + date_query + s4 + str(1) + s5\n",
    "            \n",
    "            if count == 100:\n",
    "                time.sleep(30)\n",
    "                count = 0\n",
    "                \n",
    "            conn.request(\"GET\", request_url, headers=headers) \n",
    "            res = conn.getresponse()\n",
    "            time.sleep(2)\n",
    "            \n",
    "            data = res.read().decode(\"utf-8\")\n",
    "            trips_data = json.loads(data)\n",
    "            \n",
    "            if trips_data:\n",
    "                num_pages = int(trips_data['pager']['pages'])\n",
    "            \n",
    "                num_full_trips = int(trips_data['full_trips_count'])\n",
    "                d_full[(c,date_query)] = num_full_trips    # key is the tuple (city, date)\n",
    "\n",
    "                for t in trips_data['trips']:\n",
    "                    my_data.append(extract_data(t))\n",
    "            \n",
    "                for p in xrange(2,num_pages+1):\n",
    "                    request_url = s1 + c + s2 + date_query + s3 + date_query + s4 + str(p) + s5\n",
    "                    conn.request(\"GET\", request_url, headers=headers)\n",
    "                    res = conn.getresponse()\n",
    "                    time.sleep(2)\n",
    "                    \n",
    "                    data = res.read().decode(\"utf-8\")\n",
    "                    trips_data = json.loads(data)                \n",
    "                    for t in trips_data['trips']:\n",
    "                        my_data.append(extract_data(t))\n",
    "                                     \n",
    "    return tuplelist_to_df(my_data), dict_to_df(d_full)"
   ]
  },
  {
   "cell_type": "code",
   "execution_count": 120,
   "metadata": {
    "collapsed": true
   },
   "outputs": [
    {
     "name": "stdout",
     "output_type": "stream",
     "text": [
      "2016-12-30\n",
      "Genova 1\n",
      "Torino 2\n",
      "Bologna 3\n",
      "Firenze 4\n",
      "Ancona 5\n",
      "Livorno 6\n",
      "Roma 7\n",
      "Pescara 8\n",
      "Bari 9\n",
      "Napoli 10\n",
      "Taranto 11\n",
      "Lecce 12\n",
      "Cosenza 13\n",
      "Reggio Calabria 14\n",
      "Varese 15\n",
      "Bergamo 16\n",
      "Nizza 17\n",
      "Marsiglia 18\n",
      "Grenoble 19\n",
      "Ginevra 20\n",
      "Losanna 21\n",
      "Zurigo 22\n",
      "Venezia 23\n",
      "Trento 24\n",
      "Lugano 25\n",
      "Brescia 26\n",
      "Lione 27\n",
      "Padova 28\n",
      "Udine 29\n",
      "Bolzano 30\n",
      "Trieste 31\n",
      "Reggio Emilia 32\n",
      "Berna 33\n",
      "Monaco di Baviera 34\n",
      "Verona 35\n",
      "Rimini 36\n",
      "Ravenna 37\n",
      "Terni 38\n",
      "Salerno 39\n",
      "Crotone 40\n",
      "Savona 41\n",
      "Cannes 42\n",
      "Pisa 43\n",
      "Como 44\n",
      "Pesaro 45\n",
      "Treviso 46\n",
      "Fiume 47\n",
      "Innsbruck 48\n",
      "2016-12-31\n",
      "Genova 49\n",
      "Torino 50\n",
      "Bologna 51\n",
      "Firenze 52\n",
      "Ancona 53\n",
      "Livorno 54\n",
      "Roma 55\n",
      "Pescara 56\n",
      "Bari 57\n",
      "Napoli 58\n",
      "Taranto 59\n",
      "Lecce 60\n",
      "Cosenza 61\n",
      "Reggio Calabria 62\n",
      "Varese 63\n",
      "Bergamo 64\n",
      "Nizza 65\n",
      "Marsiglia 66\n",
      "Grenoble 67\n",
      "Ginevra 68\n",
      "Losanna 69\n",
      "Zurigo 70\n",
      "Venezia 71\n",
      "Trento 72\n",
      "Lugano 73\n",
      "Brescia 74\n",
      "Lione 75\n",
      "Padova 76\n",
      "Udine 77\n",
      "Bolzano 78\n",
      "Trieste 79\n",
      "Reggio Emilia 80\n",
      "Berna 81\n",
      "Monaco di Baviera 82\n",
      "Verona 83\n",
      "Rimini 84\n",
      "Ravenna 85\n",
      "Terni 86\n",
      "Salerno 87\n",
      "Crotone 88\n",
      "Savona 89\n",
      "Cannes 90\n",
      "Pisa 91\n",
      "Como 92\n",
      "Pesaro 93\n",
      "Treviso 94\n",
      "Fiume 95\n",
      "Innsbruck 96\n",
      "243 48\n"
     ]
    }
   ],
   "source": [
    "#December\n",
    "df_dec, full_dec = get_data(2016,12,30,31,cities)\n",
    "\n",
    "print len(df_dec), len(full_dec)"
   ]
  },
  {
   "cell_type": "code",
   "execution_count": 121,
   "metadata": {
    "collapsed": true
   },
   "outputs": [],
   "source": [
    "df_dec.to_csv('./Data/Past/Dec2016.csv', encoding = 'utf-8')\n",
    "full_dec.to_csv('./Data/Past/fullDec2016.csv')"
   ]
  },
  {
   "cell_type": "code",
   "execution_count": 124,
   "metadata": {
    "collapsed": false
   },
   "outputs": [
    {
     "name": "stdout",
     "output_type": "stream",
     "text": [
      "2017-01-01\n",
      "2017-01-02\n",
      "2017-01-03\n",
      "2017-01-04\n",
      "2017-01-05\n",
      "2017-01-06\n",
      "2017-01-07\n",
      "2017-01-08\n",
      "2017-01-09\n",
      "2017-01-10\n",
      "2017-01-11\n",
      "2017-01-12\n",
      "2017-01-13\n",
      "2017-01-14\n",
      "2017-01-15\n",
      "2017-01-16\n",
      "2017-01-17\n"
     ]
    },
    {
     "ename": "KeyError",
     "evalue": "'pager'",
     "output_type": "error",
     "traceback": [
      "\u001b[0;31m\u001b[0m",
      "\u001b[0;31mKeyError\u001b[0mTraceback (most recent call last)",
      "\u001b[0;32m<ipython-input-124-c64d09574062>\u001b[0m in \u001b[0;36m<module>\u001b[0;34m()\u001b[0m\n\u001b[0;32m----> 1\u001b[0;31m \u001b[0mdf_jan\u001b[0m\u001b[0;34m,\u001b[0m \u001b[0mfull_jan\u001b[0m \u001b[0;34m=\u001b[0m \u001b[0mget_data\u001b[0m\u001b[0;34m(\u001b[0m\u001b[0;36m2017\u001b[0m\u001b[0;34m,\u001b[0m\u001b[0;36m1\u001b[0m\u001b[0;34m,\u001b[0m\u001b[0;36m1\u001b[0m\u001b[0;34m,\u001b[0m\u001b[0;36m31\u001b[0m\u001b[0;34m,\u001b[0m\u001b[0mcities\u001b[0m\u001b[0;34m)\u001b[0m\u001b[0;34m\u001b[0m\u001b[0m\n\u001b[0m\u001b[1;32m      2\u001b[0m \u001b[0;34m\u001b[0m\u001b[0m\n\u001b[1;32m      3\u001b[0m \u001b[0;32mprint\u001b[0m \u001b[0mlen\u001b[0m\u001b[0;34m(\u001b[0m\u001b[0mdf_jan\u001b[0m\u001b[0;34m)\u001b[0m\u001b[0;34m\u001b[0m\u001b[0m\n",
      "\u001b[0;32m<ipython-input-123-a37f13791a3f>\u001b[0m in \u001b[0;36mget_data\u001b[0;34m(year, month, day_begin, day_end, cities)\u001b[0m\n\u001b[1;32m     39\u001b[0m \u001b[0;34m\u001b[0m\u001b[0m\n\u001b[1;32m     40\u001b[0m             \u001b[0;32mif\u001b[0m \u001b[0mtrips_data\u001b[0m\u001b[0;34m:\u001b[0m\u001b[0;34m\u001b[0m\u001b[0m\n\u001b[0;32m---> 41\u001b[0;31m                 \u001b[0mnum_pages\u001b[0m \u001b[0;34m=\u001b[0m \u001b[0mint\u001b[0m\u001b[0;34m(\u001b[0m\u001b[0mtrips_data\u001b[0m\u001b[0;34m[\u001b[0m\u001b[0;34m'pager'\u001b[0m\u001b[0;34m]\u001b[0m\u001b[0;34m[\u001b[0m\u001b[0;34m'pages'\u001b[0m\u001b[0;34m]\u001b[0m\u001b[0;34m)\u001b[0m\u001b[0;34m\u001b[0m\u001b[0m\n\u001b[0m\u001b[1;32m     42\u001b[0m \u001b[0;34m\u001b[0m\u001b[0m\n\u001b[1;32m     43\u001b[0m                 \u001b[0mnum_full_trips\u001b[0m \u001b[0;34m=\u001b[0m \u001b[0mint\u001b[0m\u001b[0;34m(\u001b[0m\u001b[0mtrips_data\u001b[0m\u001b[0;34m[\u001b[0m\u001b[0;34m'full_trips_count'\u001b[0m\u001b[0;34m]\u001b[0m\u001b[0;34m)\u001b[0m\u001b[0;34m\u001b[0m\u001b[0m\n",
      "\u001b[0;31mKeyError\u001b[0m: 'pager'"
     ]
    }
   ],
   "source": [
    "df_jan, full_jan = get_data(2017,1,1,31,cities)\n",
    "\n",
    "print len(df_jan)"
   ]
  }
 ],
 "metadata": {
  "kernelspec": {
   "display_name": "Python 2",
   "language": "python",
   "name": "python2"
  },
  "language_info": {
   "codemirror_mode": {
    "name": "ipython",
    "version": 2
   },
   "file_extension": ".py",
   "mimetype": "text/x-python",
   "name": "python",
   "nbconvert_exporter": "python",
   "pygments_lexer": "ipython2",
   "version": "2.7.13"
  }
 },
 "nbformat": 4,
 "nbformat_minor": 2
}
