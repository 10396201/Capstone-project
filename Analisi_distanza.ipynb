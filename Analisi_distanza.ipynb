{
 "cells": [
  {
   "cell_type": "code",
   "execution_count": 1,
   "metadata": {
    "collapsed": true
   },
   "outputs": [],
   "source": [
    "import pandas as pd\n",
    "import numpy as np\n",
    "import matplotlib.pyplot as plt \n",
    "from scipy.stats import ttest_ind\n",
    "from math import floor,ceil\n",
    "import matplotlib.dates as mdates\n",
    "from datetime import datetime"
   ]
  },
  {
   "cell_type": "code",
   "execution_count": 2,
   "metadata": {
    "collapsed": true
   },
   "outputs": [
    {
     "data": {
      "text/html": [
       "<div>\n",
       "<table border=\"1\" class=\"dataframe\">\n",
       "  <thead>\n",
       "    <tr style=\"text-align: right;\">\n",
       "      <th></th>\n",
       "      <th>dep_day</th>\n",
       "      <th>arr_city_name</th>\n",
       "      <th>distance</th>\n",
       "      <th>arr_lat</th>\n",
       "      <th>arr_long</th>\n",
       "      <th>seatsleft</th>\n",
       "      <th>seats</th>\n",
       "      <th>fullseats</th>\n",
       "      <th>recommended_price</th>\n",
       "      <th>duration</th>\n",
       "      <th>provincia</th>\n",
       "      <th>regione</th>\n",
       "      <th>country_code</th>\n",
       "    </tr>\n",
       "  </thead>\n",
       "  <tbody>\n",
       "    <tr>\n",
       "      <th>0</th>\n",
       "      <td>2017-01-01</td>\n",
       "      <td>ancona</td>\n",
       "      <td>425.0</td>\n",
       "      <td>43.615830</td>\n",
       "      <td>13.518915</td>\n",
       "      <td>1</td>\n",
       "      <td>1</td>\n",
       "      <td>0</td>\n",
       "      <td>24</td>\n",
       "      <td>18000</td>\n",
       "      <td>Ancona</td>\n",
       "      <td>Marche</td>\n",
       "      <td>IT</td>\n",
       "    </tr>\n",
       "    <tr>\n",
       "      <th>1</th>\n",
       "      <td>2017-01-01</td>\n",
       "      <td>aosta</td>\n",
       "      <td>179.0</td>\n",
       "      <td>45.735120</td>\n",
       "      <td>7.324020</td>\n",
       "      <td>2</td>\n",
       "      <td>3</td>\n",
       "      <td>13</td>\n",
       "      <td>10</td>\n",
       "      <td>9000</td>\n",
       "      <td>Aosta</td>\n",
       "      <td>Valle d'Aosta</td>\n",
       "      <td>IT</td>\n",
       "    </tr>\n",
       "    <tr>\n",
       "      <th>2</th>\n",
       "      <td>2017-01-01</td>\n",
       "      <td>arcore</td>\n",
       "      <td>37.0</td>\n",
       "      <td>45.626925</td>\n",
       "      <td>9.326543</td>\n",
       "      <td>3</td>\n",
       "      <td>3</td>\n",
       "      <td>0</td>\n",
       "      <td>1</td>\n",
       "      <td>3000</td>\n",
       "      <td>Monza-Brianza</td>\n",
       "      <td>Lombardia</td>\n",
       "      <td>IT</td>\n",
       "    </tr>\n",
       "    <tr>\n",
       "      <th>3</th>\n",
       "      <td>2017-01-01</td>\n",
       "      <td>ascoli piceno</td>\n",
       "      <td>529.0</td>\n",
       "      <td>42.864093</td>\n",
       "      <td>13.724874</td>\n",
       "      <td>1</td>\n",
       "      <td>2</td>\n",
       "      <td>1</td>\n",
       "      <td>29</td>\n",
       "      <td>21600</td>\n",
       "      <td>Ascoli Piceno</td>\n",
       "      <td>Marche</td>\n",
       "      <td>IT</td>\n",
       "    </tr>\n",
       "    <tr>\n",
       "      <th>4</th>\n",
       "      <td>2017-01-01</td>\n",
       "      <td>barzio</td>\n",
       "      <td>66.0</td>\n",
       "      <td>45.943638</td>\n",
       "      <td>9.465662</td>\n",
       "      <td>3</td>\n",
       "      <td>3</td>\n",
       "      <td>0</td>\n",
       "      <td>3</td>\n",
       "      <td>5400</td>\n",
       "      <td>Lecco</td>\n",
       "      <td>Lombardia</td>\n",
       "      <td>IT</td>\n",
       "    </tr>\n",
       "  </tbody>\n",
       "</table>\n",
       "</div>"
      ],
      "text/plain": [
       "      dep_day  arr_city_name  distance    arr_lat   arr_long  seatsleft  \\\n",
       "0  2017-01-01         ancona     425.0  43.615830  13.518915          1   \n",
       "1  2017-01-01          aosta     179.0  45.735120   7.324020          2   \n",
       "2  2017-01-01         arcore      37.0  45.626925   9.326543          3   \n",
       "3  2017-01-01  ascoli piceno     529.0  42.864093  13.724874          1   \n",
       "4  2017-01-01         barzio      66.0  45.943638   9.465662          3   \n",
       "\n",
       "   seats  fullseats  recommended_price  duration      provincia  \\\n",
       "0      1          0                 24     18000         Ancona   \n",
       "1      3         13                 10      9000          Aosta   \n",
       "2      3          0                  1      3000  Monza-Brianza   \n",
       "3      2          1                 29     21600  Ascoli Piceno   \n",
       "4      3          0                  3      5400          Lecco   \n",
       "\n",
       "         regione country_code  \n",
       "0         Marche           IT  \n",
       "1  Valle d'Aosta           IT  \n",
       "2      Lombardia           IT  \n",
       "3         Marche           IT  \n",
       "4      Lombardia           IT  "
      ]
     },
     "execution_count": 2,
     "metadata": {},
     "output_type": "execute_result"
    }
   ],
   "source": [
    "df = pd.read_csv('./Data/Storico/clean_dataset.csv', index_col= 0)\n",
    "df.head()"
   ]
  },
  {
   "cell_type": "code",
   "execution_count": 11,
   "metadata": {
    "collapsed": true
   },
   "outputs": [],
   "source": [
    "dist = df[['distance','seatsleft','fullseats']]"
   ]
  },
  {
   "cell_type": "code",
   "execution_count": 16,
   "metadata": {
    "collapsed": true
   },
   "outputs": [
    {
     "data": {
      "text/html": [
       "<div>\n",
       "<table border=\"1\" class=\"dataframe\">\n",
       "  <thead>\n",
       "    <tr style=\"text-align: right;\">\n",
       "      <th></th>\n",
       "      <th>distance</th>\n",
       "      <th>seatsleft</th>\n",
       "      <th>fullseats</th>\n",
       "      <th>totalseats</th>\n",
       "    </tr>\n",
       "  </thead>\n",
       "  <tbody>\n",
       "    <tr>\n",
       "      <th>0</th>\n",
       "      <td>425.0</td>\n",
       "      <td>1</td>\n",
       "      <td>0</td>\n",
       "      <td>1</td>\n",
       "    </tr>\n",
       "    <tr>\n",
       "      <th>1</th>\n",
       "      <td>179.0</td>\n",
       "      <td>2</td>\n",
       "      <td>13</td>\n",
       "      <td>15</td>\n",
       "    </tr>\n",
       "    <tr>\n",
       "      <th>2</th>\n",
       "      <td>37.0</td>\n",
       "      <td>3</td>\n",
       "      <td>0</td>\n",
       "      <td>3</td>\n",
       "    </tr>\n",
       "    <tr>\n",
       "      <th>3</th>\n",
       "      <td>529.0</td>\n",
       "      <td>1</td>\n",
       "      <td>1</td>\n",
       "      <td>2</td>\n",
       "    </tr>\n",
       "    <tr>\n",
       "      <th>4</th>\n",
       "      <td>66.0</td>\n",
       "      <td>3</td>\n",
       "      <td>0</td>\n",
       "      <td>3</td>\n",
       "    </tr>\n",
       "  </tbody>\n",
       "</table>\n",
       "</div>"
      ],
      "text/plain": [
       "   distance  seatsleft  fullseats  totalseats\n",
       "0     425.0          1          0           1\n",
       "1     179.0          2         13          15\n",
       "2      37.0          3          0           3\n",
       "3     529.0          1          1           2\n",
       "4      66.0          3          0           3"
      ]
     },
     "execution_count": 16,
     "metadata": {},
     "output_type": "execute_result"
    }
   ],
   "source": [
    "dist.head()"
   ]
  },
  {
   "cell_type": "code",
   "execution_count": 15,
   "metadata": {
    "collapsed": true
   },
   "outputs": [
    {
     "name": "stderr",
     "output_type": "stream",
     "text": [
      "/opt/conda/lib/python2.7/site-packages/ipykernel/__main__.py:1: SettingWithCopyWarning: \n",
      "A value is trying to be set on a copy of a slice from a DataFrame.\n",
      "Try using .loc[row_indexer,col_indexer] = value instead\n",
      "\n",
      "See the caveats in the documentation: http://pandas.pydata.org/pandas-docs/stable/indexing.html#indexing-view-versus-copy\n",
      "  if __name__ == '__main__':\n"
     ]
    }
   ],
   "source": [
    "dist['totalseats'] = dist['seatsleft'] + dist['fullseats']"
   ]
  },
  {
   "cell_type": "code",
   "execution_count": 19,
   "metadata": {
    "collapsed": false
   },
   "outputs": [
    {
     "data": {
      "image/png": "[encoded data removed]",
      "text/plain": [
       "<matplotlib.figure.Figure at 0x7f7701765750>"
      ]
     },
     "metadata": {},
     "output_type": "display_data"
    }
   ],
   "source": [
    "plt.plot(dist['distance'], dist['totalseats'],'.')\n",
    "plt.show()"
   ]
  }
 ],
 "metadata": {
  "kernelspec": {
   "display_name": "Python 2",
   "language": "python",
   "name": "python2"
  },
  "language_info": {
   "codemirror_mode": {
    "name": "ipython",
    "version": 2
   },
   "file_extension": ".py",
   "mimetype": "text/x-python",
   "name": "python",
   "nbconvert_exporter": "python",
   "pygments_lexer": "ipython2",
   "version": "2.7.13"
  }
 },
 "nbformat": 4,
 "nbformat_minor": 2
}
