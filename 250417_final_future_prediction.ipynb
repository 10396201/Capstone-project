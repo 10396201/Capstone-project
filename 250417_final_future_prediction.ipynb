{
 "cells": [
  {
   "cell_type": "code",
   "execution_count": 2,
   "metadata": {
    "collapsed": true
   },
   "outputs": [],
   "source": [
    "import pandas as pd\n",
    "import numpy as np"
   ]
  },
  {
   "cell_type": "code",
   "execution_count": 42,
   "metadata": {
    "collapsed": true
   },
   "outputs": [],
   "source": [
    "ita = pd.read_csv('./Data/ita_pred.csv', index_col= 0, usecols = range(1,16))\n",
    "est = pd.read_csv('./Data/est_pred.csv', index_col= 0, usecols = range(1,16))\n",
    "\n",
    "itaDays = pd.read_csv('./Data/ita_days.csv', index_col= 0, usecols = range(1,9))\n",
    "estDays = pd.read_csv('./Data/est_days.csv', index_col= 0, usecols = range(1,9))"
   ]
  },
  {
   "cell_type": "code",
   "execution_count": 43,
   "metadata": {
    "collapsed": false
   },
   "outputs": [],
   "source": [
    "# replace negative numbers with 0\n",
    "ita[ita < 0] = 0\n",
    "ita = ita.round(decimals = 0)\n",
    "\n",
    "est[est < 0] = 0\n",
    "est = est.round(decimals = 0)"
   ]
  },
  {
   "cell_type": "code",
   "execution_count": 41,
   "metadata": {
    "collapsed": false
   },
   "outputs": [
    {
     "name": "stdout",
     "output_type": "stream",
     "text": [
      "Caserta 2 (5.0, 1.0, 0.0, 0.0, 0.0, 0.0, 1.0)\n",
      "Grosseto 2 (1.0, 3.0, 1.0, 1.0, 0.0, 0.0, 0.0)\n",
      "Pistoia 3 (2.0, 1.0, 1.0, 2.0, 1.0, 0.0, 0.0)\n",
      "Rovigo 2 (0.0, 1.0, 1.0, 2.0, 0.0, 1.0, 0.0)\n",
      "Viterbo 1 (2.0, 0.0, 2.0, 0.0, 0.0, 0.0, 1.0)\n",
      "Arezzo 2 (7.0, 1.0, 2.0, 2.0, 1.0, 0.0, 0.0)\n",
      "Bari 2 (0.0, 2.0, 1.0, 0.0, 1.0, 0.0, 1.0)\n",
      "Fermo 3 (3.0, 2.0, 1.0, 1.0, 1.0, 1.0, 0.0)\n",
      "Foggia 4 (1.0, 2.0, 3.0, 1.0, 1.0, 0.0, 0.0)\n",
      "Vercelli 1 (5.0, 2.0, 3.0, 1.0, 1.0, 1.0, 1.0)\n",
      "Bolzano 1 (15.0, 3.0, 12.0, 2.0, 4.0, 1.0, 5.0)\n",
      "Mantova 1 (5.0, 4.0, 2.0, 1.0, 0.0, 0.0, 0.0)\n",
      "Siena 1 (9.0, 2.0, 9.0, 2.0, 1.0, 1.0, 1.0)\n",
      "Ferrara 2 (10.0, 0.0, 2.0, 2.0, 1.0, 0.0, 1.0)\n",
      "Lecce 1 (5.0, 1.0, 0.0, 0.0, 1.0, 0.0, 1.0)\n",
      "Napoli 1 (4.0, 1.0, 2.0, 1.0, 2.0, 2.0, 2.0)\n",
      "Pescara 1 (9.0, 3.0, 0.0, 7.0, 0.0, 2.0, 4.0)\n",
      "L'Aquila 1 (0.0, 0.0, 0.0, 0.0, 0.0, 0.0, 1.0)\n",
      "Barletta-Andria-Trani 2 (0.0, 1.0, 1.0, 0.0, 0.0, 0.0, 0.0)\n",
      "Benevento 1 (1.0, 0.0, 0.0, 0.0, 0.0, 0.0, 0.0)\n",
      "Belluno 1 (11.0, 4.0, 0.0, 0.0, 3.0, 0.0, 1.0)\n",
      "Teramo 2 (2.0, 0.0, 0.0, 0.0, 1.0, 1.0, 2.0)\n",
      "Gorizia 4 (3.0, 1.0, 3.0, 1.0, 0.0, 1.0, 1.0)\n",
      "Terni 1 (5.0, 0.0, 0.0, 0.0, 0.0, 0.0, 0.0)\n",
      "Salerno 2 (0.0, 0.0, 2.0, 0.0, 0.0, 0.0, 2.0)\n",
      "Pordenone 1 (11.0, 4.0, 6.0, 1.0, 1.0, 2.0, 3.0)\n",
      "Reggio Calabria 1 (0.0, 0.0, 0.0, 0.0, 0.0, 1.0, 0.0)\n",
      "Chieti 1 (3.0, 0.0, 0.0, 0.0, 0.0, 0.0, 0.0)\n",
      "Frosinone 2 (1.0, 0.0, 0.0, 0.0, 0.0, 0.0, 1.0)\n",
      "Catania 2 (1.0, 0.0, 1.0, 0.0, 0.0, 0.0, 0.0)\n",
      "Campobasso 1 (0.0, 1.0, 0.0, 0.0, 0.0, 0.0, 0.0)\n",
      "Avellino 1 (2.0, 0.0, 0.0, 0.0, 0.0, 0.0, 0.0)\n",
      "Crotone 1 (0.0, 0.0, 0.0, 0.0, 0.0, 7.0, 0.0)\n"
     ]
    }
   ],
   "source": [
    "# cerca in quante province predizione è maggiore di 0 e il numero di days è basso (~)\n",
    "threshold = 4\n",
    "# < 2 --> 9 province (max 1)\n",
    "# < 3 --> 22 province (max 3)\n",
    "# < 4 --> 31 province (max 4)\n",
    "for row in ita.iterrows():\n",
    "    prov = row[0]\n",
    "    days = itaDays.loc[prov]\n",
    "    \n",
    "    fri = row[1][0]\n",
    "    sat = row[1][1]\n",
    "    sun = row[1][2]\n",
    "    mon = row[1][3]\n",
    "    tue = row[1][4]\n",
    "    wed = row[1][5]\n",
    "    thu = row[1][6]\n",
    "    \n",
    "    count = 0\n",
    "    \n",
    "    if (fri > 0 and days['Friday'] < threshold):\n",
    "        count += 1\n",
    "    if (sat > 0 and days['Saturday'] < threshold):\n",
    "        count += 1\n",
    "    if (sun > 0 and days['Sunday'] < threshold):\n",
    "        count += 1\n",
    "    if (mon > 0 and days['Monday'] < threshold):\n",
    "        count += 1\n",
    "    if (tue > 0 and days['Tuesday'] < threshold):\n",
    "        count += 1\n",
    "    if (wed > 0 and days['Wednesday'] < threshold):\n",
    "        count += 1\n",
    "    if (thu > 0 and days['Thursday'] < threshold):\n",
    "        count += 1\n",
    "            \n",
    "    if count > 0:\n",
    "        print prov, count, (fri,sat,sun,mon,tue,wed,thu)\n",
    "        \n",
    "        "
   ]
  }
 ],
 "metadata": {
  "kernelspec": {
   "display_name": "Python 2",
   "language": "python",
   "name": "python2"
  },
  "language_info": {
   "codemirror_mode": {
    "name": "ipython",
    "version": 2
   },
   "file_extension": ".py",
   "mimetype": "text/x-python",
   "name": "python",
   "nbconvert_exporter": "python",
   "pygments_lexer": "ipython2",
   "version": "2.7.13"
  }
 },
 "nbformat": 4,
 "nbformat_minor": 2
}
