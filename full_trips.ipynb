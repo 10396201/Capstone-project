{
 "cells": [
  {
   "cell_type": "code",
   "execution_count": 25,
   "metadata": {
    "collapsed": true
   },
   "outputs": [],
   "source": [
    "import pandas as pd\n",
    "import json\n",
    "import httplib\n",
    "import time\n",
    "from ratelimiter import RateLimiter\n",
    "import urllib2"
   ]
  },
  {
   "cell_type": "code",
   "execution_count": 64,
   "metadata": {
    "collapsed": true
   },
   "outputs": [],
   "source": [
    "@RateLimiter(max_calls=10, period=6)\n",
    "def get_full_trips(date_query,dest):\n",
    "    conn = httplib.HTTPSConnection(\"public-api.blablacar.com\")\n",
    "    \n",
    "    headers = {\n",
    "        'accept': \"application/json\",\n",
    "        'key': \"f1126089b5f1459f89323c770a7ade4c\"\n",
    "    }\n",
    "                \n",
    "    request_url = \"/api/v2/trips?fn=Milano&tn=\" + dest + \"&locale=it_IT&_format=json&cur=EUR&db=\" + date_query + \"&de=\" + date_query + \"&limit=1&radius=5\"                         \n",
    "    conn.request(\"GET\", request_url, headers=headers) \n",
    "    \n",
    "    try:\n",
    "        res = conn.getresponse()\n",
    "    \n",
    "        data = res.read().decode(\"utf-8\")\n",
    "        trips_data = json.loads(data)\n",
    "        \n",
    "        res1 = int(trips_data['full_trips_count'])\n",
    "    \n",
    "        res2 = {}\n",
    "\n",
    "        if trips_data['trips']:\n",
    "            res2['country_code'] = trips_data['trips'][0]['arrival_place']['country_code']\n",
    "        else:\n",
    "            res2['country_code'] = 'BOH'\n",
    "    \n",
    "        if 'recommended_price' in trips_data:\n",
    "            res2['recommended_price'] = int(trips_data['recommended_price'])\n",
    "        else:\n",
    "            res2['recommended_price'] = -1\n",
    "    \n",
    "        if 'duration' in trips_data:\n",
    "            res2['duration'] = int(trips_data['duration'])\n",
    "        else:\n",
    "            res2['duration'] = -1\n",
    "    \n",
    "        return res1, res2\n",
    "    except:\n",
    "        print 'Something went wrong' + dest + ' ' + date_query\n",
    "        return -1, {'country_code': 'BOH', 'recommended_price': -1, 'duration':-1}\n"
   ]
  },
  {
   "cell_type": "code",
   "execution_count": 27,
   "metadata": {
    "collapsed": true
   },
   "outputs": [],
   "source": [
    "def dict_two_keys_to_df(d):\n",
    "    return pd.DataFrame(d.values(), index=pd.MultiIndex.from_tuples(d.keys())).unstack(1)"
   ]
  },
  {
   "cell_type": "code",
   "execution_count": 28,
   "metadata": {
    "collapsed": true
   },
   "outputs": [],
   "source": [
    "def dict_one_key_to_df(d):\n",
    "    return pd.DataFrame.from_dict(d, orient='index')"
   ]
  },
  {
   "cell_type": "code",
   "execution_count": 29,
   "metadata": {
    "collapsed": true
   },
   "outputs": [],
   "source": [
    "def get_country_full_trips(dataset):\n",
    "    df = dataset[['dep_day','arr_city_name']]\n",
    "    d_daycity = {}\n",
    "    d_city = {}\n",
    "    count = 0 # counts requests\n",
    "    for ind,row in df.iterrows():\n",
    "        date = row[0]\n",
    "        arr_city = row[1]\n",
    "        if (arr_city, date) not in d_daycity:\n",
    "            count += 1\n",
    "            if arr_city not in d_city:\n",
    "                d_daycity[(arr_city, date)],d_city[arr_city] = get_full_trips(date, arr_city)\n",
    "            else:\n",
    "                d_daycity[(arr_city, date)], _ = get_full_trips(date, arr_city)\n",
    "                \n",
    "    print 'Total requests: ' + str(count)\n",
    "    return dict_two_keys_to_df(d_daycity), dict_one_key_to_df(d_city)"
   ]
  },
  {
   "cell_type": "code",
   "execution_count": 30,
   "metadata": {
    "collapsed": false
   },
   "outputs": [],
   "source": [
    "df = pd.read_csv('./Data/Storico/January2017.csv')"
   ]
  },
  {
   "cell_type": "code",
   "execution_count": 31,
   "metadata": {
    "collapsed": false
   },
   "outputs": [
    {
     "name": "stdout",
     "output_type": "stream",
     "text": [
      "6219\n"
     ]
    }
   ],
   "source": [
    "print len(df)"
   ]
  },
  {
   "cell_type": "code",
   "execution_count": 32,
   "metadata": {
    "collapsed": true
   },
   "outputs": [
    {
     "name": "stdout",
     "output_type": "stream",
     "text": [
      "                0\n",
      "       2017-01-01\n",
      "Rovigo          0\n"
     ]
    }
   ],
   "source": [
    "print p1"
   ]
  },
  {
   "cell_type": "code",
   "execution_count": 38,
   "metadata": {
    "collapsed": false
   },
   "outputs": [
    {
     "name": "stdout",
     "output_type": "stream",
     "text": [
      "Total requests: 3248\n"
     ]
    }
   ],
   "source": [
    "df_full, df_cityinfo = get_country_full_trips(df)"
   ]
  },
  {
   "cell_type": "code",
   "execution_count": 44,
   "metadata": {
    "collapsed": false
   },
   "outputs": [
    {
     "data": {
      "text/html": [
       "<div>\n",
       "<table border=\"1\" class=\"dataframe\">\n",
       "  <thead>\n",
       "    <tr style=\"text-align: right;\">\n",
       "      <th></th>\n",
       "      <th>duration</th>\n",
       "      <th>recommended_price</th>\n",
       "      <th>country_code</th>\n",
       "    </tr>\n",
       "  </thead>\n",
       "  <tbody>\n",
       "    <tr>\n",
       "      <th>Abano Terme</th>\n",
       "      <td>10800</td>\n",
       "      <td>13</td>\n",
       "      <td>IT</td>\n",
       "    </tr>\n",
       "    <tr>\n",
       "      <th>Abbiategrasso</th>\n",
       "      <td>3600</td>\n",
       "      <td>2</td>\n",
       "      <td>IT</td>\n",
       "    </tr>\n",
       "    <tr>\n",
       "      <th>Acqui Terme</th>\n",
       "      <td>7200</td>\n",
       "      <td>7</td>\n",
       "      <td>IT</td>\n",
       "    </tr>\n",
       "    <tr>\n",
       "      <th>Adria</th>\n",
       "      <td>12600</td>\n",
       "      <td>14</td>\n",
       "      <td>IT</td>\n",
       "    </tr>\n",
       "    <tr>\n",
       "      <th>Aereoporto \"v.catullo\"</th>\n",
       "      <td>7200</td>\n",
       "      <td>8</td>\n",
       "      <td>IT</td>\n",
       "    </tr>\n",
       "  </tbody>\n",
       "</table>\n",
       "</div>"
      ],
      "text/plain": [
       "                        duration  recommended_price country_code\n",
       "Abano Terme                10800                 13           IT\n",
       "Abbiategrasso               3600                  2           IT\n",
       "Acqui Terme                 7200                  7           IT\n",
       "Adria                      12600                 14           IT\n",
       "Aereoporto \"v.catullo\"      7200                  8           IT"
      ]
     },
     "execution_count": 44,
     "metadata": {},
     "output_type": "execute_result"
    }
   ],
   "source": [
    "df_cityinfo.head()"
   ]
  },
  {
   "cell_type": "code",
   "execution_count": 45,
   "metadata": {
    "collapsed": true
   },
   "outputs": [],
   "source": [
    "df_full.to_csv('./Data/Storico/Full_Jan.csv')"
   ]
  },
  {
   "cell_type": "code",
   "execution_count": 47,
   "metadata": {
    "collapsed": false
   },
   "outputs": [],
   "source": [
    "df_cityinfo.to_csv('./Data/Storico/City_Jan.csv')"
   ]
  },
  {
   "cell_type": "code",
   "execution_count": 39,
   "metadata": {
    "collapsed": false
   },
   "outputs": [
    {
     "name": "stdout",
     "output_type": "stream",
     "text": [
      "5970\n"
     ]
    }
   ],
   "source": [
    "df2 = pd.read_csv('./Data/Storico/February2017.csv')\n",
    "print len(df2)"
   ]
  },
  {
   "cell_type": "code",
   "execution_count": 40,
   "metadata": {
    "collapsed": false
   },
   "outputs": [
    {
     "name": "stdout",
     "output_type": "stream",
     "text": [
      "Total requests: 2984\n"
     ]
    }
   ],
   "source": [
    "df_full2, df_cityinfo2 = get_country_full_trips(df2)"
   ]
  },
  {
   "cell_type": "code",
   "execution_count": 52,
   "metadata": {
    "collapsed": false
   },
   "outputs": [
    {
     "data": {
      "text/html": [
       "<div>\n",
       "<table border=\"1\" class=\"dataframe\">\n",
       "  <thead>\n",
       "    <tr style=\"text-align: right;\">\n",
       "      <th></th>\n",
       "      <th>duration</th>\n",
       "      <th>recommended_price</th>\n",
       "      <th>country_code</th>\n",
       "    </tr>\n",
       "  </thead>\n",
       "  <tbody>\n",
       "    <tr>\n",
       "      <th>casello ferrara nord</th>\n",
       "      <td>10800</td>\n",
       "      <td>14</td>\n",
       "      <td>IT</td>\n",
       "    </tr>\n",
       "    <tr>\n",
       "      <th>gessate m2</th>\n",
       "      <td>3000</td>\n",
       "      <td>1</td>\n",
       "      <td>IT</td>\n",
       "    </tr>\n",
       "    <tr>\n",
       "      <th>Århus</th>\n",
       "      <td>58800</td>\n",
       "      <td>79</td>\n",
       "      <td>DK</td>\n",
       "    </tr>\n",
       "    <tr>\n",
       "      <th>Étrembières</th>\n",
       "      <td>14400</td>\n",
       "      <td>17</td>\n",
       "      <td>FR</td>\n",
       "    </tr>\n",
       "    <tr>\n",
       "      <th>Černivci</th>\n",
       "      <td>76200</td>\n",
       "      <td>94</td>\n",
       "      <td>UA</td>\n",
       "    </tr>\n",
       "  </tbody>\n",
       "</table>\n",
       "</div>"
      ],
      "text/plain": [
       "                      duration  recommended_price country_code\n",
       "casello ferrara nord     10800                 14           IT\n",
       "gessate m2                3000                  1           IT\n",
       "Århus                    58800                 79           DK\n",
       "Étrembières              14400                 17           FR\n",
       "Černivci                 76200                 94           UA"
      ]
     },
     "execution_count": 52,
     "metadata": {},
     "output_type": "execute_result"
    }
   ],
   "source": [
    "df_cityinfo2.tail()"
   ]
  },
  {
   "cell_type": "code",
   "execution_count": 50,
   "metadata": {
    "collapsed": true
   },
   "outputs": [],
   "source": [
    "df_full2.to_csv('./Data/Storico/Full_Feb.csv')"
   ]
  },
  {
   "cell_type": "code",
   "execution_count": 53,
   "metadata": {
    "collapsed": true
   },
   "outputs": [],
   "source": [
    "df_cityinfo2.to_csv('./Data/Storico/City_Feb.csv')"
   ]
  },
  {
   "cell_type": "code",
   "execution_count": 55,
   "metadata": {
    "collapsed": false
   },
   "outputs": [
    {
     "name": "stdout",
     "output_type": "stream",
     "text": [
      "5145\n"
     ]
    }
   ],
   "source": [
    "df3 = pd.read_csv('./Data/Storico/March2017.csv')\n",
    "print len(df3)"
   ]
  },
  {
   "cell_type": "code",
   "execution_count": 56,
   "metadata": {
    "collapsed": false
   },
   "outputs": [
    {
     "name": "stdout",
     "output_type": "stream",
     "text": [
      "Total requests: 2753\n"
     ]
    }
   ],
   "source": [
    "df_full3, df_cityinfo3 = get_country_full_trips(df3)"
   ]
  },
  {
   "cell_type": "code",
   "execution_count": 58,
   "metadata": {
    "collapsed": false
   },
   "outputs": [],
   "source": [
    "df_full3.to_csv('./Data/Storico/Full_Mar.csv')"
   ]
  },
  {
   "cell_type": "code",
   "execution_count": 59,
   "metadata": {
    "collapsed": true
   },
   "outputs": [],
   "source": [
    "df_cityinfo3.to_csv('./Data/Storico/City_Mar.csv')"
   ]
  },
  {
   "cell_type": "code",
   "execution_count": 60,
   "metadata": {
    "collapsed": false
   },
   "outputs": [
    {
     "name": "stdout",
     "output_type": "stream",
     "text": [
      "319\n"
     ]
    }
   ],
   "source": [
    "df4 = pd.read_csv('./Data/Futuro/March2017.csv')\n",
    "print len(df4)"
   ]
  },
  {
   "cell_type": "code",
   "execution_count": 62,
   "metadata": {
    "collapsed": false
   },
   "outputs": [
    {
     "name": "stdout",
     "output_type": "stream",
     "text": [
      "Total requests: 145\n"
     ]
    }
   ],
   "source": [
    "df_full4, df_cityinfo4 = get_country_full_trips(df4)"
   ]
  },
  {
   "cell_type": "code",
   "execution_count": 63,
   "metadata": {
    "collapsed": true
   },
   "outputs": [],
   "source": [
    "df_full4.to_csv('./Data/Futuro/Full_Mar.csv')\n",
    "df_cityinfo4.to_csv('./Data/Futuro/City_Mar.csv')"
   ]
  },
  {
   "cell_type": "code",
   "execution_count": 65,
   "metadata": {
    "collapsed": false
   },
   "outputs": [
    {
     "name": "stdout",
     "output_type": "stream",
     "text": [
      "1175\n"
     ]
    }
   ],
   "source": [
    "df5 = pd.read_csv('./Data/Futuro/April2017.csv')\n",
    "print len(df5)"
   ]
  },
  {
   "cell_type": "code",
   "execution_count": 67,
   "metadata": {
    "collapsed": false
   },
   "outputs": [
    {
     "name": "stdout",
     "output_type": "stream",
     "text": [
      "Total requests: 828\n"
     ]
    }
   ],
   "source": [
    "df_full5, df_cityinfo5 = get_country_full_trips(df5)"
   ]
  },
  {
   "cell_type": "code",
   "execution_count": 69,
   "metadata": {
    "collapsed": false
   },
   "outputs": [],
   "source": [
    "df_full5.to_csv('./Data/Futuro/Full_Apr.csv')\n",
    "df_cityinfo5.to_csv('./Data/Futuro/City_Apr.csv')"
   ]
  },
  {
   "cell_type": "code",
   "execution_count": 70,
   "metadata": {
    "collapsed": false
   },
   "outputs": [
    {
     "name": "stdout",
     "output_type": "stream",
     "text": [
      "88\n"
     ]
    }
   ],
   "source": [
    "df6 = pd.read_csv('./Data/Futuro/May2017.csv')\n",
    "print len(df6)"
   ]
  },
  {
   "cell_type": "code",
   "execution_count": 71,
   "metadata": {
    "collapsed": false
   },
   "outputs": [
    {
     "name": "stdout",
     "output_type": "stream",
     "text": [
      "Total requests: 83\n"
     ]
    }
   ],
   "source": [
    "df_full6, df_cityinfo6 = get_country_full_trips(df6)"
   ]
  },
  {
   "cell_type": "code",
   "execution_count": 72,
   "metadata": {
    "collapsed": true
   },
   "outputs": [],
   "source": [
    "df_full6.to_csv('./Data/Futuro/Full_May.csv')\n",
    "df_cityinfo6.to_csv('./Data/Futuro/City_May.csv')"
   ]
  },
  {
   "cell_type": "code",
   "execution_count": 73,
   "metadata": {
    "collapsed": false
   },
   "outputs": [
    {
     "name": "stdout",
     "output_type": "stream",
     "text": [
      "49\n"
     ]
    }
   ],
   "source": [
    "df7 = pd.read_csv('./Data/Futuro/June2017.csv')\n",
    "print len(df7)"
   ]
  },
  {
   "cell_type": "code",
   "execution_count": 74,
   "metadata": {
    "collapsed": false
   },
   "outputs": [
    {
     "name": "stdout",
     "output_type": "stream",
     "text": [
      "Total requests: 49\n"
     ]
    }
   ],
   "source": [
    "df_full7, df_cityinfo7 = get_country_full_trips(df7)"
   ]
  },
  {
   "cell_type": "code",
   "execution_count": 75,
   "metadata": {
    "collapsed": true
   },
   "outputs": [],
   "source": [
    "df_full7.to_csv('./Data/Futuro/Full_Jun.csv')\n",
    "df_cityinfo7.to_csv('./Data/Futuro/City_Jun.csv')"
   ]
  },
  {
   "cell_type": "code",
   "execution_count": 76,
   "metadata": {
    "collapsed": false
   },
   "outputs": [
    {
     "name": "stdout",
     "output_type": "stream",
     "text": [
      "34\n"
     ]
    }
   ],
   "source": [
    "df8 = pd.read_csv('./Data/Futuro/July2017.csv')\n",
    "print len(df8)"
   ]
  },
  {
   "cell_type": "code",
   "execution_count": 77,
   "metadata": {
    "collapsed": false
   },
   "outputs": [
    {
     "name": "stdout",
     "output_type": "stream",
     "text": [
      "Total requests: 34\n"
     ]
    }
   ],
   "source": [
    "df_full8, df_cityinfo8 = get_country_full_trips(df8)"
   ]
  },
  {
   "cell_type": "code",
   "execution_count": 78,
   "metadata": {
    "collapsed": true
   },
   "outputs": [],
   "source": [
    "df_full8.to_csv('./Data/Futuro/Full_Jul.csv')\n",
    "df_cityinfo8.to_csv('./Data/Futuro/City_Jul.csv')"
   ]
  }
 ],
 "metadata": {
  "kernelspec": {
   "display_name": "Python 2",
   "language": "python",
   "name": "python2"
  },
  "language_info": {
   "codemirror_mode": {
    "name": "ipython",
    "version": 2
   },
   "file_extension": ".py",
   "mimetype": "text/x-python",
   "name": "python",
   "nbconvert_exporter": "python",
   "pygments_lexer": "ipython2",
   "version": "2.7.13"
  }
 },
 "nbformat": 4,
 "nbformat_minor": 2
}
